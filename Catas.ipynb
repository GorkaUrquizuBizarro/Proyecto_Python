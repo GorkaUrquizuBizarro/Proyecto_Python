{
 "cells": [
  {
   "cell_type": "markdown",
   "metadata": {},
   "source": [
    "# PROYECTO LÓGICA: Katas de Python"
   ]
  },
  {
   "cell_type": "markdown",
   "metadata": {},
   "source": [
    "1. Escribe una función que reciba una cadena de texto como parámetro y devuelva un diccionario con las frecuencias\n",
    "de cada letra en la cadena. Los espacios no deben ser considerados."
   ]
  },
  {
   "cell_type": "code",
   "execution_count": null,
   "metadata": {},
   "outputs": [
    {
     "name": "stdout",
     "output_type": "stream",
     "text": [
      "{'h': 1, 'o': 4, 'l': 2, 'a': 2, 't': 1, 'd': 2, 'e': 1, 'm': 1, 'u': 1, 'n': 1}\n"
     ]
    }
   ],
   "source": [
    "def frecuencia_letras(texto):\n",
    "  \"\"\"\n",
    "  Calcula la frecuencia de cada letra en una cadena, ignorando espacios.\n",
    "\n",
    "  Args:\n",
    "    texto: La cadena de texto sobre la que calcular las frecuencias.\n",
    "\n",
    "  Returns:\n",
    "    Un diccionario donde las claves son las letras y los valores son sus frecuencias.\n",
    "  \"\"\"\n",
    "  frecuencias = {}\n",
    "  for letra in texto:\n",
    "    if letra.isalpha():\n",
    "      letra = letra.lower()\n",
    "      if letra in frecuencias:\n",
    "        frecuencias[letra] += 1\n",
    "      else:\n",
    "        frecuencias[letra] = 1\n",
    "  return frecuencias\n",
    "\n",
    "cadena_texto = frecuencia_letras (texto=\"Hola a todo el mundo\")\n",
    "print(cadena_texto)"
   ]
  },
  {
   "cell_type": "markdown",
   "metadata": {},
   "source": []
  },
  {
   "cell_type": "markdown",
   "metadata": {},
   "source": [
    "2. Dada una lista de números, obtén una nueva lista con el doble de cada valor. Usa la función map."
   ]
  },
  {
   "cell_type": "code",
   "execution_count": null,
   "metadata": {},
   "outputs": [
    {
     "name": "stdout",
     "output_type": "stream",
     "text": [
      "[2, 4, 6, 8, 10, 12, 14, 16, 18, 20]\n"
     ]
    }
   ],
   "source": [
    "lista_números1 = [1,2,3,4,5,6,7,8,9,10]\n",
    "lista_números2 = list (map (lambda x:x*2,lista_números1))\n",
    "print (lista_números2)"
   ]
  },
  {
   "cell_type": "markdown",
   "metadata": {},
   "source": [
    "3. Escribe una función que tome una lista de palabras y una palabra objetivo como parámetros. La función debe\n",
    "devolver una lista con todas las palabras de la lista original que contengan la palabra objetivo."
   ]
  },
  {
   "cell_type": "code",
   "execution_count": 10,
   "metadata": {},
   "outputs": [
    {
     "name": "stdout",
     "output_type": "stream",
     "text": [
      "['gato', 'gatito', 'agatar']\n"
     ]
    }
   ],
   "source": [
    "def palabras_que_contienen(lista_palabras, palabra_objetivo):\n",
    "    \"\"\"\n",
    "    Obtiene de una lista de palabras, aquellas que coinciden en la palabra objetivo que le indiquemos.\n",
    "    Args:\n",
    "        lista (iterable):Una lista que contiene palabras.\n",
    "        nota (str): El string que indica el objetivo que buscamos.\n",
    "\n",
    "    Returns:\n",
    "        list: Un lista que contine:\n",
    "            - el string que coincide con el objetivo\n",
    "            \"\"\"\n",
    "    return list(filter(lambda palabra: palabra_objetivo in palabra, lista_palabras))\n",
    "\n",
    "lista = [\"gato\", \"gatito\", \"perro\", \"agatar\", \"ratón\"]\n",
    "objetivo = \"gat\"\n",
    "\n",
    "resultado = palabras_que_contienen(lista, objetivo)\n",
    "print(resultado)"
   ]
  },
  {
   "cell_type": "markdown",
   "metadata": {},
   "source": [
    "4. Genera una función que calcule la diferencia entre los valores de dos listas. Usa la función map()"
   ]
  },
  {
   "cell_type": "code",
   "execution_count": null,
   "metadata": {},
   "outputs": [
    {
     "name": "stdout",
     "output_type": "stream",
     "text": [
      "[-9, -7, -5, -3, -1, 1, 3, 5, 7, 9]\n"
     ]
    }
   ],
   "source": [
    "lista1 = [1,2,3,4,5,6,7,8,9,10]\n",
    "lista2 = [10,9,8,7,6,5,4,3,2,1]\n",
    "\n",
    "diferencia = list (map (lambda x,y: x-y, lista1, lista2))\n",
    "print (diferencia)"
   ]
  },
  {
   "cell_type": "markdown",
   "metadata": {},
   "source": [
    "5. Ecribe una función que tome una lista de números como parámetro y un valor opcional nota_aprobado, que por\n",
    "defecto es 5. La función debe calcular la media de los números en la lista y determinar si la media es mayor o igual\n",
    "que nota aprobado. Si es así, el estado será \"aprobado\", de lo contrario, será \"suspenso\". La función debe devolver\n",
    "una tupla que contenga la media y el estado."
   ]
  },
  {
   "cell_type": "code",
   "execution_count": null,
   "metadata": {},
   "outputs": [
    {
     "name": "stdout",
     "output_type": "stream",
     "text": [
      "La nota media final es: 5.69\n",
      "El estado final es: Aprobado\n"
     ]
    }
   ],
   "source": [
    "def calcular_media (iterable_numeros,nota_aprobado):\n",
    "    \"\"\"\n",
    "    Calcula la media de una lista de números y determina si el resultado supera una nota de aprobación.\n",
    "\n",
    "    Esta función recibe una lista de números y una nota de aprobación. Calcula la media de los números\n",
    "    en la lista y devuelve la media junto con el estado de aprobación (\"Aprobado\" o \"Suspenso\") en función\n",
    "    de si la media supera o no la nota de aprobación especificada.\n",
    "\n",
    "    Args:\n",
    "        iterable_numeros (iterable): Una lista o cualquier objeto iterable que contenga números.\n",
    "        nota_aprobado (float): El valor numérico que representa la nota mínima para aprobar.\n",
    "\n",
    "    Returns:\n",
    "        tuple: Una tupla que contiene:\n",
    "            - float: La media de los números en la lista, redondeada a dos decimales.\n",
    "            - str: El estado de aprobación (\"Aprobado\" o \"Suspenso\").\n",
    "            \"\"\"\n",
    "\n",
    "    estado = \"Suspenso\"\n",
    "    media = round (sum (iterable_numeros)/len(iterable_numeros),2)\n",
    "    if media >= nota_aprobado:\n",
    "        estado =\"Aprobado\"\n",
    "    return media,estado\n",
    "\n",
    "lista_notas = [5.6,3.8,5,6.7,2.3,8,8.4]\n",
    "media_final,estado_final = calcular_media(iterable_numeros=lista_notas, nota_aprobado=5)\n",
    "print (f\"La nota media final es: {media_final}\")\n",
    "print (f\"El estado final es: {estado_final}\")\n"
   ]
  },
  {
   "cell_type": "markdown",
   "metadata": {},
   "source": [
    "6. Escribe una función que calcule el factorial de un número de manera recursiva."
   ]
  },
  {
   "cell_type": "code",
   "execution_count": null,
   "metadata": {},
   "outputs": [
    {
     "name": "stdout",
     "output_type": "stream",
     "text": [
      "120\n"
     ]
    }
   ],
   "source": [
    "def calcular_factorial (numero):\n",
    "    \"\"\"\n",
    "    Calcula el factorial de un número entero no negativo de forma recursiva.\n",
    "\n",
    "    El factorial de un número entero no negativo n, denotado como n!, es el producto de todos los enteros\n",
    "    positivos menores o iguales a n. Se define recursivamente de la siguiente manera:\n",
    "\n",
    "        - Caso base: 0! = 1\n",
    "        - Caso recursivo: n! = n × (n − 1)!\n",
    "\n",
    "    Args:\n",
    "        numero (int): Un número entero no negativo.\n",
    "\n",
    "    Returns:\n",
    "        int: El factorial del número proporcionado\"\"\"\n",
    "    \n",
    "    if numero == 0:\n",
    "        return 1\n",
    "    else:\n",
    "        return numero * calcular_factorial (numero-1)\n",
    "\n",
    "numero_factorial = calcular_factorial(5)\n",
    "print (numero_factorial)"
   ]
  },
  {
   "cell_type": "markdown",
   "metadata": {},
   "source": [
    "7. Genera una función que convierta una lista de tuplas a una lista de strings. Usa la función map()"
   ]
  },
  {
   "cell_type": "code",
   "execution_count": null,
   "metadata": {},
   "outputs": [
    {
     "name": "stdout",
     "output_type": "stream",
     "text": [
      "[\"(1, 'perro')\", \"(2, 'gato')\", \"(3, 'ratón')\"]\n"
     ]
    }
   ],
   "source": [
    "def tuplas_a_strings(lista_tuplas):\n",
    " \"\"\"\n",
    "    Convierte una lista de tuplas en una lista de strings.\n",
    "\n",
    "    Args:\n",
    "        lista_tuplas (list): Lista que contiene tuplas.\n",
    "\n",
    "    return list(map(str, lista_tuplas))\n",
    "\"\"\"\n",
    "datos = [\n",
    "    (1, 'perro'),\n",
    "    (2, 'gato'),\n",
    "    (3, 'ratón')\n",
    "    ]\n",
    "\n",
    "resultado = tuplas_a_strings(datos)\n",
    "print(resultado)"
   ]
  },
  {
   "cell_type": "markdown",
   "metadata": {},
   "source": [
    "8. Escribe un programa que pida al usuario dos números e intente dividirlos. Si el usuario ingresa un valor no numérico o intenta dividir por cero, maneja esas excepciones de manera adecuada. Asegúrate de mostrar un mensaje\n",
    "indicando si la división fue exitosa o no."
   ]
  },
  {
   "cell_type": "code",
   "execution_count": null,
   "metadata": {},
   "outputs": [
    {
     "name": "stdout",
     "output_type": "stream",
     "text": [
      "Error: Por favor, introduce valores numéricos.\n"
     ]
    }
   ],
   "source": [
    "def dividir_numeros():\n",
    "    \"\"\"\n",
    "    Solicita al usuario dos números y muestra el resultado de su división.\n",
    "\n",
    "    Esta función pide al usuario que ingrese dos números. Intenta dividir el primer número por el segundo y\n",
    "    muestra el resultado. Si el usuario ingresa un valor no numérico o intenta dividir por cero, se muestra\n",
    "    un mensaje de error correspondiente.\"\"\"\n",
    "    \n",
    "    try:\n",
    "        # Solicitar al usuario el primer número\n",
    "        num1 = float(input(\"Introduce el primer número: \"))\n",
    "        # Solicitar al usuario el segundo número\n",
    "        num2 = float(input(\"Introduce el segundo número: \"))\n",
    "        \n",
    "        # Intentar realizar la división\n",
    "        resultado = num1 / num2\n",
    "    except ValueError:\n",
    "        # Manejar el caso en que el usuario ingrese un valor no numérico\n",
    "        print(\"Error: Por favor, introduce valores numéricos.\")\n",
    "    except ZeroDivisionError:\n",
    "        # Manejar el caso en que el usuario intente dividir por cero\n",
    "        print(\"Error: No se puede dividir por cero.\")\n",
    "    else:\n",
    "        # Si no hubo excepciones, mostrar el resultado de la división\n",
    "        print(f\"La división fue exitosa. El resultado es: {resultado}\")\n",
    "\n",
    "# Llamar a la función para ejecutar el programa\n",
    "dividir_numeros()\n"
   ]
  },
  {
   "cell_type": "markdown",
   "metadata": {},
   "source": [
    "9. -Escribe una función que tome una lista de nombres de mascotas como parámetro y devuelva una nueva lista\n",
    "excluyendo ciertas mascotas prohibidas en España. La lista de mascotas a excluir es [\"Mapache\", \"Tigre\",\n",
    "\"Serpiente Pitón\", \"Cocodrilo\", \"Oso\"].Usa la función filter()"
   ]
  },
  {
   "cell_type": "code",
   "execution_count": 4,
   "metadata": {},
   "outputs": [
    {
     "name": "stdout",
     "output_type": "stream",
     "text": [
      "['Perro', 'Gato', 'Conejo']\n"
     ]
    }
   ],
   "source": [
    "def filtrar_mascotas_permitidas(lista_mascotas):\n",
    "    mascotas_prohibidas = [\"Mapache\", \"Tigre\", \"Serpiente Pitón\", \"Cocodrilo\", \"Oso\",\"Leon\",\"Tortuga\"]\n",
    "    return list(filter(lambda mascota: mascota not in mascotas_prohibidas, lista_mascotas))\n",
    "\n",
    "mascotas = [\"Perro\", \"Gato\", \"Tigre\", \"Conejo\", \"Mapache\", \"Tortuga\",\"Leon\",\"Oso\"]\n",
    "permitidas = filtrar_mascotas_permitidas(mascotas)\n",
    "\n",
    "print(permitidas)\n"
   ]
  },
  {
   "cell_type": "markdown",
   "metadata": {},
   "source": [
    "10. Escribe una función que reciba una lista de números y calcule su promedio. Si la lista está vacía, lanza una\n",
    "excepción personalizada y maneja el error adecuadamente."
   ]
  },
  {
   "cell_type": "code",
   "execution_count": null,
   "metadata": {},
   "outputs": [
    {
     "name": "stdout",
     "output_type": "stream",
     "text": [
      "Ha ocurrido un error inesperado\n"
     ]
    }
   ],
   "source": [
    "def calcular_media(lista):\n",
    "    \"\"\"\n",
    "    Calcula la media de una lista de números.\n",
    "\n",
    "    Esta función recibe una lista de números y calcula su media aritmética. Si la lista está vacía,\n",
    "    se lanza una excepción `ValueError` con un mensaje indicando que la lista está vacía. Si ocurre\n",
    "    cualquier otro error inesperado durante el cálculo, se captura y se imprime un mensaje de error.\n",
    "\n",
    "    Args:\n",
    "        lista (iterable): Una lista o cualquier objeto iterable que contenga números.\n",
    "\n",
    "    Returns:\n",
    "        float: La media de los números en la lista.\"\"\"\n",
    "    \n",
    "    try:\n",
    "        if not lista:  # Verifica si la lista está vacía\n",
    "            raise ValueError(\"La lista está vacía.\")\n",
    "        suma = sum(lista)\n",
    "        cantidad = len(lista)\n",
    "        media = suma / cantidad\n",
    "        return media\n",
    "    except ValueError:\n",
    "        print(f\"Ha ocurrido un error inesperado\")\n",
    "        return None\n",
    "\n",
    "numeros = [10, 20, 30, 40, 50]\n",
    "resultado = calcular_media(numeros)\n",
    "if resultado is not None:\n",
    "    print(f\"La media de la lista es: {resultado}\")\n"
   ]
  },
  {
   "cell_type": "markdown",
   "metadata": {},
   "source": [
    "11. Escribe un programa que pida al usuario que introduzca su edad. Si el usuario ingresa un valor no numérico o un\n",
    "valor fuera del rango esperado (por ejemplo, menor que 0 o mayor que 120), maneja las excepciones\n",
    "adecuadamente."
   ]
  },
  {
   "cell_type": "code",
   "execution_count": null,
   "metadata": {},
   "outputs": [
    {
     "name": "stdout",
     "output_type": "stream",
     "text": [
      "El valor introducido no es correcto. Debe estar entre 0 y 120\n"
     ]
    }
   ],
   "source": [
    "try:\n",
    "        # Solicitar al usuario el primer número\n",
    "        edad = int(input(\"Introduce el primer número: \"))  \n",
    "        if edad>0 and edad<120:\n",
    "                print (f\"La edad introducida es: {edad}\")\n",
    "        else:\n",
    "                print(\"El valor introducido no es correcto. Debe estar entre 0 y 120\")\n",
    "except ValueError:\n",
    "        # Manejar el caso en que el usuario ingrese un valor no numérico\n",
    "        print(\"Error: Por favor, introduce valores numéricos\")"
   ]
  },
  {
   "cell_type": "markdown",
   "metadata": {},
   "source": [
    "12. Genera una función que al recibir una frase devuelva una lista con la longitud de cada palabra. Usa la función map()"
   ]
  },
  {
   "cell_type": "code",
   "execution_count": null,
   "metadata": {},
   "outputs": [
    {
     "name": "stdout",
     "output_type": "stream",
     "text": [
      "[3, 5, 3, 3, 8]\n"
     ]
    }
   ],
   "source": [
    "def longitudes_palabras(frase):\n",
    "    palabras = frase.split()\n",
    "    return list(map(len, palabras))\n",
    "\n",
    "frase = \"Los gatos son muy curiosos\"\n",
    "resultado = longitudes_palabras(frase)\n",
    "\n",
    "print(resultado)"
   ]
  },
  {
   "cell_type": "markdown",
   "metadata": {},
   "source": [
    "13. Genera una función la cual, para un conjunto de caracteres, devuelva una lista de tuplas con cada letra en\n",
    "mayúsculas y minúsculas. Las letras no pueden estar repetidas .Usa la función map()"
   ]
  },
  {
   "cell_type": "code",
   "execution_count": null,
   "metadata": {},
   "outputs": [
    {
     "name": "stdout",
     "output_type": "stream",
     "text": [
      "<class 'set'>\n",
      "[('B', 'b'), ('A', 'a'), ('C', 'c'), ('A', 'a'), ('D', 'd')]\n"
     ]
    }
   ],
   "source": [
    "def letras_mayus_minus(conjunto):\n",
    "    return list(map(lambda x: (x.upper(), x.lower()), conjunto))\n",
    "\n",
    "caracteres = {'a', 'b', 'C', 'd', 'A'}\n",
    "#como los set en Python no tienen un orden el resultado puede variar en orden.\n",
    "#las letras no se repetiran porque un set no tiene en cuenta duplicados.\n",
    "print(type(caracteres))\n",
    "resultado = letras_mayus_minus(caracteres)\n",
    "print(resultado)"
   ]
  },
  {
   "cell_type": "markdown",
   "metadata": {},
   "source": [
    "14. Crea una función que retorne las palabras de una lista de palabras que comience con una letra en especifico. Usa la función filter()"
   ]
  },
  {
   "cell_type": "code",
   "execution_count": null,
   "metadata": {},
   "outputs": [
    {
     "name": "stdout",
     "output_type": "stream",
     "text": [
      "['unax', 'unai', 'Ugaitz', 'Urtziol']\n"
     ]
    }
   ],
   "source": [
    "lista_palabras = [\"gorka\",\"joseba\",\"unax\",\"unai\",\"Ugaitz\", \"Urtziol\"]\n",
    "\n",
    "def letra_especifica (lista):\n",
    "    \"\"\"\n",
    "    Filtra las palabras que empiezan con 'u' en minúscula.\n",
    "\n",
    "    Recorre cada elemento en `lista`, lo convierte a minúsculas y selecciona\n",
    "    aquellas palabras cuyo primer carácter es 'u'.\n",
    "\n",
    "    Args:\n",
    "        lista (list of str): Lista de palabras a procesar.\n",
    "\n",
    "    Returns:\n",
    "        list of str: Nueva lista con las palabras que comienzan con 'u'.\n",
    "    \"\"\"\n",
    "    \n",
    "    lista_resultado = []\n",
    "    for palabra in lista:\n",
    "        lista = lista.lower()\n",
    "        if lista[0]==\"u\":\n",
    "            lista_resultado.append(lista)\n",
    "        else:\n",
    "            continue\n",
    "    return (lista_resultado)\n",
    "\n",
    "resultado = list(filter(letra_especifica ,lista_palabras))\n",
    "print(resultado)"
   ]
  },
  {
   "cell_type": "markdown",
   "metadata": {},
   "source": [
    "15. Crea una función lambda que sume 3 a cada número de una lista dada."
   ]
  },
  {
   "cell_type": "code",
   "execution_count": null,
   "metadata": {},
   "outputs": [
    {
     "name": "stdout",
     "output_type": "stream",
     "text": [
      "[4, 5, 6, 7, 8, 9, 10, 11, 12]\n"
     ]
    }
   ],
   "source": [
    "lista_numeros = (1,2,3,4,5,6,7,8,9)\n",
    "resultado = list (map(lambda x: x+3, lista_numeros))\n",
    "\n",
    "print (resultado)"
   ]
  },
  {
   "cell_type": "markdown",
   "metadata": {},
   "source": [
    "16. Escribe una función que tome una cadena de texto y un número entero n como parámetros y devuelva una lista de\n",
    "todas las palabras que sean más largas que n. Usa la función filter()."
   ]
  },
  {
   "cell_type": "code",
   "execution_count": null,
   "metadata": {},
   "outputs": [
    {
     "name": "stdout",
     "output_type": "stream",
     "text": [
      "['Hola', 'mundo', 'hoy', 'ser', 'dia', 'espectacular']\n"
     ]
    }
   ],
   "source": [
    "def palabras_mas_largas_que(texto, n):\n",
    "    # Dividir el texto en palabras\n",
    "    palabras = texto.split()\n",
    "    \n",
    "    # Usar filter para obtener las palabras más largas que n\n",
    "    palabras_largas = list(filter(lambda palabra: len(palabra) > n, palabras))\n",
    "    \n",
    "    return palabras_largas\n",
    "\n",
    "# Ejemplo de uso\n",
    "texto = \"Hola mundo hoy va a ser un dia espectacular\"\n",
    "n = 2\n",
    "resultado = palabras_mas_largas_que(texto, n)\n",
    "print(resultado)  "
   ]
  },
  {
   "cell_type": "markdown",
   "metadata": {},
   "source": [
    "17. Crea una función que tome una lista de dígitos y devuelva el número correspondiente. Por ejemplo, [5,7,2]\n",
    "corresponde al número quinientos setenta y dos (572). Usa la función reduce()."
   ]
  },
  {
   "cell_type": "code",
   "execution_count": null,
   "metadata": {},
   "outputs": [
    {
     "name": "stdout",
     "output_type": "stream",
     "text": [
      "[5, 7, 2]\n"
     ]
    }
   ],
   "source": [
    "from functools import reduce\n",
    "\n",
    "lista_numeros= [5,7,2]\n",
    "\n",
    "def concatenar (lista):\n",
    "    for elemento in lista:\n",
    "        str(lista)\n",
    "    return  (lista)\n",
    "\n",
    "resultado = concatenar(lista_numeros)\n",
    "print (resultado)"
   ]
  },
  {
   "cell_type": "markdown",
   "metadata": {},
   "source": [
    "18. Escribe un programa en Python que cree una lista de diccionarios que contenga información de estudiantes\n",
    "(nombre, edad, calificación) y use la función filter para extraer a los estudiantes con una calificación mayor o igual a 90. Usa la función filter() "
   ]
  },
  {
   "cell_type": "code",
   "execution_count": null,
   "metadata": {},
   "outputs": [
    {
     "name": "stdout",
     "output_type": "stream",
     "text": [
      "[{'nombre': 'Luis', 'edad': 22, 'calificación': 92}, {'nombre': 'Carlos', 'edad': 21, 'calificación': 95}]\n"
     ]
    }
   ],
   "source": [
    "# Lista de diccionarios con información de estudiantes\n",
    "estudiantes = [\n",
    "    {\"nombre\": \"Ana\", \"edad\": 20, \"calificación\": 85},\n",
    "    {\"nombre\": \"Luis\", \"edad\": 22, \"calificación\": 92},\n",
    "    {\"nombre\": \"María\", \"edad\": 19, \"calificación\": 88},\n",
    "    {\"nombre\": \"Carlos\", \"edad\": 21, \"calificación\": 95},\n",
    "    {\"nombre\": \"Elena\", \"edad\": 23, \"calificación\": 78}\n",
    "]\n",
    "\n",
    "# Función para filtrar estudiantes con calificación mayor o igual a 90\n",
    "def calificacion_alta(estudiante):\n",
    "    return estudiante[\"calificación\"] >= 90\n",
    "\n",
    "# Uso de la función filter para extraer los estudiantes con calificación alta\n",
    "estudiantes_con_calificacion_alta = list(filter(calificacion_alta, estudiantes))\n",
    "\n",
    "# Imprimir la lista de estudiantes con calificación alta\n",
    "print(estudiantes_con_calificacion_alta)"
   ]
  },
  {
   "cell_type": "markdown",
   "metadata": {},
   "source": [
    "19. Crea una función lambda que filtre los números impares de una lista dada."
   ]
  },
  {
   "cell_type": "code",
   "execution_count": 50,
   "metadata": {},
   "outputs": [
    {
     "name": "stdout",
     "output_type": "stream",
     "text": [
      "[33, 47, 85]\n"
     ]
    }
   ],
   "source": [
    "lista_numeros =[12,24,33,92,74,47,22,2,85,48,92]\n",
    "numeros_impares = list (filter (lambda x: x%2 !=0, lista_numeros))\n",
    "print (numeros_impares)"
   ]
  },
  {
   "cell_type": "markdown",
   "metadata": {},
   "source": [
    "20. Para una lista con elementos tipo integer y string obtén una nueva lista sólo con los valores int. Usa la función\n",
    "filter() "
   ]
  },
  {
   "cell_type": "code",
   "execution_count": null,
   "metadata": {},
   "outputs": [
    {
     "name": "stdout",
     "output_type": "stream",
     "text": [
      "[1, 3, 42, 7]\n"
     ]
    }
   ],
   "source": [
    "lista_inicial = [1, 'hola', 3, 42, True, 7]\n",
    "lista_final = list(filter(lambda x:type(x)==int,lista_inicial))\n",
    "print(lista_final)\n",
    "\n",
    "#Utilizamos la funcion anónima -> lambda x: type(x) == int que devuelve True si x es exactamente de tipo int"
   ]
  },
  {
   "cell_type": "markdown",
   "metadata": {},
   "source": [
    "21. Crea una función que calcule el cubo de un número dado mediante una función lambda.\n"
   ]
  },
  {
   "cell_type": "code",
   "execution_count": null,
   "metadata": {},
   "outputs": [
    {
     "name": "stdout",
     "output_type": "stream",
     "text": [
      "El cubo de 2 es 8\n"
     ]
    }
   ],
   "source": [
    "# Definir una función lambda para calcular el cubo de un número\n",
    "cubo = lambda x: x ** 3\n",
    "\n",
    "# Número de ejemplo\n",
    "numero = int(input(\"Introduce un numero\"))\n",
    "\n",
    "# Calcular el cubo del número\n",
    "resultado = cubo(numero)\n",
    "\n",
    "# Imprimir el resultado\n",
    "print(f\"El cubo de {numero} es {resultado}\")"
   ]
  },
  {
   "cell_type": "markdown",
   "metadata": {},
   "source": [
    "22. Dada una lista numérica, obtén el producto total de los valores de dicha lista.Usa la función reduce() .\n"
   ]
  },
  {
   "cell_type": "code",
   "execution_count": null,
   "metadata": {},
   "outputs": [
    {
     "name": "stdout",
     "output_type": "stream",
     "text": [
      "El producto total de los valores de la lista es: 45\n"
     ]
    }
   ],
   "source": [
    "from functools import reduce\n",
    "\"\"\"\n",
    "    Suma dos números y devuelve el resultado.\n",
    "\n",
    "    Args:\n",
    "        numero1 (int or float): El primer sumando.\n",
    "        numero2 (int or float): El segundo sumando.\n",
    "\n",
    "    Returns:\n",
    "        int or float: La suma de `numero1` y `numero2`\"\"\"\n",
    "\n",
    "def suma(numero1,numero2):\n",
    "    suma =numero1+numero2\n",
    "    return suma\n",
    "    \n",
    "lista_numerica = [1,2,3,4,5,6,7,8,9]\n",
    "producto_total = reduce(suma,lista_numerica)\n",
    "\n",
    "print (f\"El producto total de los valores de la lista es: {producto_total}\")"
   ]
  },
  {
   "cell_type": "markdown",
   "metadata": {},
   "source": [
    "23. Concatena una lista de palabras.Usa la función reduce() .\n"
   ]
  },
  {
   "cell_type": "code",
   "execution_count": null,
   "metadata": {},
   "outputs": [
    {
     "name": "stdout",
     "output_type": "stream",
     "text": [
      "El resultado de la función reduce usando lambdas es: HolamellamoGorka\n"
     ]
    }
   ],
   "source": [
    "from functools import reduce\n",
    "\n",
    "lista_palabras = [\"Hola\",\"me\",\"llamo\",\"Gorka\"]\n",
    "# Podemos usar reduce con una función lambda\n",
    "resultado_reduce_lambda = reduce(lambda x, y: x+y, lista_palabras)\n",
    "\n",
    "print(f\"El resultado de la función reduce usando lambdas es: {resultado_reduce_lambda}\")"
   ]
  },
  {
   "cell_type": "markdown",
   "metadata": {},
   "source": [
    "24. Calcula la diferencia total en los valores de una lista. Usa la función reduce() .\n"
   ]
  },
  {
   "cell_type": "code",
   "execution_count": null,
   "metadata": {},
   "outputs": [
    {
     "name": "stdout",
     "output_type": "stream",
     "text": [
      "65\n"
     ]
    }
   ],
   "source": [
    "from functools import reduce\n",
    "\n",
    "def diferencia_total(lista):\n",
    "    return reduce(lambda x, y: x - y, lista)\n",
    "\n",
    "numeros = [100, 20, 10, 5]\n",
    "resultado = diferencia_total(numeros)\n",
    "print(resultado)\n"
   ]
  },
  {
   "cell_type": "markdown",
   "metadata": {},
   "source": [
    "25. Crea una función que cuente el número de caracteres en una cadena de texto dada."
   ]
  },
  {
   "cell_type": "code",
   "execution_count": null,
   "metadata": {},
   "outputs": [
    {
     "name": "stdout",
     "output_type": "stream",
     "text": [
      "35\n"
     ]
    }
   ],
   "source": [
    "def contar_caracteres (cadena):\n",
    "    \"\"\"Devuelve la longitud de la cadena proporcionada.\"\"\"\n",
    "    return len(cadena)\n",
    "\n",
    "cadena = \"Hola mundo hoy va a ser un gran día\"\n",
    "numero_caracteres = contar_caracteres (cadena)\n",
    "print (numero_caracteres)\n"
   ]
  },
  {
   "cell_type": "markdown",
   "metadata": {},
   "source": [
    "26. Crea una función lambda que calcule el resto de la división entre dos números dados.\n"
   ]
  },
  {
   "cell_type": "code",
   "execution_count": null,
   "metadata": {},
   "outputs": [
    {
     "name": "stdout",
     "output_type": "stream",
     "text": [
      "1\n",
      "4\n"
     ]
    }
   ],
   "source": [
    "resto = lambda x, y: x % y\n",
    "print(resto(10, 3))  # Resultado: 1\n",
    "print(resto(25, 7))  # Resultado: 1\n"
   ]
  },
  {
   "cell_type": "markdown",
   "metadata": {},
   "source": [
    "27. Crea una función que calcule el promedio de una lista de números.\n"
   ]
  },
  {
   "cell_type": "code",
   "execution_count": 106,
   "metadata": {},
   "outputs": [
    {
     "name": "stdout",
     "output_type": "stream",
     "text": [
      "20.86\n"
     ]
    }
   ],
   "source": [
    "def calcular_promedio (numeros):\n",
    "    \"\"\"\n",
    "    Calcula el promedio de una lista de números y lo redondea a dos decimales.\n",
    "\n",
    "    Args:\n",
    "        numeros: Lista de valores numéricos. Debe contener al menos un elemento.\n",
    "\n",
    "    Returns:\n",
    "        float: Promedio de los valores, redondeado a dos decimales\"\"\"\n",
    "\n",
    "    promedio = round (sum (numeros)/len(numeros),2)\n",
    "    return promedio\n",
    "\n",
    "numeros = [1,2,3,4,5,6,7,8,23,34,32,26,87,54]\n",
    "promedio_numeros = calcular_promedio (numeros)\n",
    "print (promedio_numeros)"
   ]
  },
  {
   "cell_type": "markdown",
   "metadata": {},
   "source": [
    "28. Crea una función que busque y devuelva el primer elemento duplicado en una lista dada.\n",
    "."
   ]
  },
  {
   "cell_type": "code",
   "execution_count": null,
   "metadata": {},
   "outputs": [
    {
     "name": "stdout",
     "output_type": "stream",
     "text": [
      "3\n"
     ]
    }
   ],
   "source": [
    "def primer_duplicado(lista):\n",
    "    \"\"\"\n",
    "    Devuelve el primer elemento duplicado en una lista, o None si no hay duplicados.\n",
    "\n",
    "    Args:\n",
    "        lista (iterable): Una secuencia de elementos comparables (por ejemplo, int, str, etc.).\n",
    "\n",
    "    Returns:\n",
    "        el mismo tipo que los elementos de la lista o None:\n",
    "        - El primer valor de la lista que se repite.\n",
    "        - None si no hay elementos duplicados\"\"\"\n",
    "    \n",
    "    elementos_vistos = set()\n",
    "    for elemento in lista:\n",
    "        if elemento in elementos_vistos:\n",
    "            return elemento\n",
    "        elementos_vistos.add(elemento)\n",
    "    return None\n",
    "\n",
    "lista = [1, 2, 3, 4, 5, 3, 6, 7]\n",
    "print(primer_duplicado(lista)) "
   ]
  },
  {
   "cell_type": "markdown",
   "metadata": {},
   "source": [
    "29. Crea una función que convierta una variable en una cadena de texto y enmascare todos los caracteres con el\n",
    "carácter '#', excepto los últimos cuatro.\n"
   ]
  },
  {
   "cell_type": "code",
   "execution_count": null,
   "metadata": {},
   "outputs": [
    {
     "name": "stdout",
     "output_type": "stream",
     "text": [
      "**3456\n"
     ]
    }
   ],
   "source": [
    "def enmascarar_variable(variable):\n",
    "    \"\"\"\n",
    "    Enmascara una variable convirtiéndola a cadena y ocultando todos los caracteres excepto los últimos cuatro.\n",
    "\n",
    "    Args:\n",
    "        variable (any): Valor de cualquier tipo que será convertido a cadena y enmascarado.\n",
    "\n",
    "    Returns:\n",
    "        str: La representación en cadena del valor, con enmascaramiento aplicado según la longitud\n",
    "    \"\"\"\n",
    "    \n",
    "    # Convertir la variable a cadena de texto\n",
    "    cadena = str(variable)\n",
    "    # Enmascarar todos los caracteres excepto los últimos cuatro\n",
    "    if len(cadena) > 4:\n",
    "        enmascarada = '*' * (len(cadena) - 4) + cadena[-4:]\n",
    "    else:\n",
    "        enmascarada = cadena\n",
    "    return enmascarada\n",
    "\n",
    "variable = 123456\n",
    "print(enmascarar_variable(variable))\n"
   ]
  },
  {
   "cell_type": "markdown",
   "metadata": {},
   "source": [
    "30. Crea una función que determine si dos palabras son anagramas, es decir, si están formadas por las mismas letras\n",
    "pero en diferente orden"
   ]
  },
  {
   "cell_type": "code",
   "execution_count": null,
   "metadata": {},
   "outputs": [
    {
     "name": "stdout",
     "output_type": "stream",
     "text": [
      "True\n",
      "False\n"
     ]
    }
   ],
   "source": [
    "def son_anagramas(palabra1, palabra2):\n",
    "     \"\"\"\n",
    "    Determina si dos palabras son anagramas.\n",
    "\n",
    "    Convierte ambas palabras a minúsculas para evitar distinciones por mayúsculas,\n",
    "    luego compara sus caracteres ordenados. Si coinciden, son anagramas.\n",
    "\n",
    "    Args:\n",
    "        palabra1 (str): Primera palabra a comparar.\n",
    "        palabra2 (str): Segunda palabra a comparar.\n",
    "\n",
    "    Returns:\n",
    "        bool: True si las palabras son anagramas, False en caso contrario\n",
    "    \"\"\"\n",
    "     \n",
    "    # Convertir las palabras a minúsculas para evitar problemas con mayúsculas\n",
    "    palabra1 = palabra1.lower()\n",
    "    palabra2 = palabra2.lower()\n",
    "    \n",
    "    # Ordenar las letras de ambas palabras y compararlas\n",
    "    return sorted(palabra1) == sorted(palabra2)\n",
    "\n",
    "# Ejemplo de uso\n",
    "print(son_anagramas(\"amor\", \"roma\"))  # Debería devolver True\n",
    "print(son_anagramas(\"hola\", \"adios\"))  # Debería devolver False"
   ]
  },
  {
   "cell_type": "markdown",
   "metadata": {},
   "source": [
    "31. Crea una función que solicite al usuario ingresar una lista de nombres y luego solicite un nombre para buscar en\n",
    "esa lista. Si el nombre está en la lista, se imprime un mensaje indicando que fue encontrado, de lo contrario, se\n",
    "lanza una excepción"
   ]
  },
  {
   "cell_type": "code",
   "execution_count": null,
   "metadata": {},
   "outputs": [
    {
     "name": "stdout",
     "output_type": "stream",
     "text": [
      "El nombre 'g' no se encuentra en la lista.\n"
     ]
    }
   ],
   "source": [
    "def buscar_nombre():\n",
    "    try:\n",
    "        # Solicitar al usuario que ingrese una lista de nombres\n",
    "        nombres = input(\"Ingresa una lista de nombres separados por comas: \").split(',')\n",
    "        # Eliminar espacios en blanco alrededor de los nombres\n",
    "        nombres = [nombre.strip() for nombre in nombres]\n",
    "        \n",
    "        # Solicitar al usuario que ingrese el nombre a buscar\n",
    "        nombre_a_buscar = input(\"Ingresa el nombre que deseas buscar: \").strip()\n",
    "        \n",
    "        # Buscar el nombre en la lista\n",
    "        if nombre_a_buscar in nombres:\n",
    "            print(f\"El nombre '{nombre_a_buscar}' fue encontrado en la lista.\")\n",
    "        else:\n",
    "            raise ValueError(f\"El nombre '{nombre_a_buscar}' no se encuentra en la lista.\")\n",
    "    \n",
    "    except ValueError as e:\n",
    "        print(e)\n",
    "\n",
    "# Llamar a la función para probarla\n",
    "buscar_nombre()\n"
   ]
  },
  {
   "cell_type": "markdown",
   "metadata": {},
   "source": [
    "32. Crea una función que tome un nombre completo y una lista de empleados, busque el nombre completo en la lista y\n",
    "devuelve el puesto del empleado si está en la lista, de lo contrario, devuelve un mensaje indicando que la persona\n",
    "no trabaja aquí."
   ]
  },
  {
   "cell_type": "code",
   "execution_count": null,
   "metadata": {},
   "outputs": [
    {
     "name": "stdout",
     "output_type": "stream",
     "text": [
      "Ingeniera de software\n",
      "Lo siento, carlos ruiz no trabaja aquí.\n"
     ]
    }
   ],
   "source": [
    "def obtener_puesto(nombre_buscado, empleados):\n",
    "\n",
    "    \"\"\"\n",
    "    Busca el puesto de un empleado por nombre y lo devuelve si existe.\n",
    "\n",
    "    Args:\n",
    "        nombre_buscado (str): Nombre del empleado a buscar.\n",
    "        empleados (list of dict): Lista de diccionarios, cada uno representando un empleado.\n",
    "\n",
    "    Returns:\n",
    "        str: El valor asociado a 'puesto' si el empleado existe.\n",
    "             Si no tiene la clave 'puesto', devuelve 'Puesto no disponible'.\n",
    "             Si no se encuentra un empleado con ese nombre, devuelve un mensaje de error.\n",
    "    \"\"\"\n",
    "\n",
    "    for empleado in empleados:\n",
    "        # Compara nombre completo, ignorando mayúsculas/minúsculas\n",
    "        # Utilizo la función get pq es una forma segura y sencilla de obtener valores de un diccionario sin tener errores.\n",
    "        if empleado.get('nombre').strip().lower() == nombre_buscado.strip().lower():\n",
    "            return empleado.get('puesto', 'Puesto no disponible')\n",
    "    return f\"Lo siento, {nombre_buscado} no trabaja aquí.\"\n",
    "\n",
    "# Generamos la lista de empleados con nombre completo\n",
    "lista_empleados = [\n",
    "    {'nombre': 'Ana Pérez', 'puesto': 'Ingeniera de software'},\n",
    "    {'nombre': 'Luis García', 'puesto': 'Diseñador UX'},\n",
    "    {'nombre': 'María López', 'puesto': 'Analista de datos'}\n",
    "]\n",
    "\n",
    "print(obtener_puesto('ana pérez', lista_empleados))\n",
    "# → Diseñador UX\n",
    "\n",
    "print(obtener_puesto('carlos ruiz', lista_empleados))\n",
    "# → Lo siento, Carlos Ruiz no trabaja aquí."
   ]
  },
  {
   "cell_type": "markdown",
   "metadata": {},
   "source": [
    "33. Crea una función lambda que sume elementos correspondientes de dos listas dadas."
   ]
  },
  {
   "cell_type": "code",
   "execution_count": null,
   "metadata": {},
   "outputs": [
    {
     "name": "stdout",
     "output_type": "stream",
     "text": [
      "[3, 36, 27, 97, 49, 73, 28]\n"
     ]
    }
   ],
   "source": [
    "lista_elementos1 = [1,2,4,65,34,38,26,6,45,93,2]\n",
    "lista_elementos2 = [2,34,23,32,15,35,2]\n",
    "\n",
    "lista_total = list (map (lambda x,y: x+y,lista_elementos1,lista_elementos2))\n",
    "print (lista_total)"
   ]
  },
  {
   "cell_type": "markdown",
   "metadata": {},
   "source": [
    "34. Crea la clase Arbol , define un árbol genérico con un tronco y ramas como atributos. Los métodos disponibles son:\n",
    "crecer_tronco , nueva_rama , crecer_ramas , quitar_rama e info_arbol . El objetivo es implementar estos métodos para\n",
    "manipular la estructura del árbol.\n",
    "\n",
    "Código a seguir:\n",
    "1. Inicializar un árbol con un tronco de longitud 1 y una lista vacía de ramas.\n",
    "2. Implementar el método crecer_tronco para aumentar la longitud del tronco en una unidad.\n",
    "3. Implementar el método nueva_rama para agregar una nueva rama de longitud 1 a la lista de ramas.\n",
    "4. Implementar el método crecer_ramas para aumentar en una unidad la longitud de todas las ramas existentes.\n",
    "5. Implementar el método quitar_rama para eliminar una rama en una posición específica.\n",
    "6. Implementar el método\n",
    "info_arbol para devolver información sobre la longitud del tronco, el número de ramas y las longitudes de las\n",
    "mismas.\n",
    "\n",
    "Caso de uso:\n",
    "1. Crear un árbol.\n",
    "2. Hacer crecer el tronco del árbol una unidad.\n",
    "3. Añadir una nueva rama al árbol.\n",
    "4. Hacer crecer todas las ramas del árbol una unidad.\n",
    "5. Añadir dos nuevas ramas al árbol.\n",
    "6. Retirar la rama situada en la posición 2.\n",
    "7. Obtener información sobre el árbol."
   ]
  },
  {
   "cell_type": "code",
   "execution_count": null,
   "metadata": {},
   "outputs": [],
   "source": [
    "class Arbol:\n",
    "    #Metodo constructor\n",
    "    def __init__ (self, tronco, ramas): #definimos tronco y ramas como atributos\n",
    "        self.tronco = tronco\n",
    "        self.ramas = ramas\n",
    "        \n",
    "    def medida_inicial (self):\n",
    "        return f\"La longitud del tronco del arbol es: {self.tronco} m y el número de ramas es: {self.ramas}\"\n",
    "    \n",
    "    def crecer_arbol (self):\n",
    "        self.tronco = self.tronco+1\n",
    "        return f\"El tronco del arbol ha crecido, ahora mide: {self.tronco} m\"\n",
    "    \n",
    "    def nueva_rama (self):\n",
    "        self.ramas = self.ramas+1\n",
    "        return f\"El tronco ahora tiene: {self.ramas} ramas\"\n",
    "    \n",
    "    def crecer_ramas (self,longitud_nueva_rama):\n",
    "        longitud_rama = 10\n",
    "        self.ramas = self.ramas+2\n",
    "        return f\"El arbol tiene dos nuevas ramas. Ahora tiene {self.ramas} ramas\"\n",
    "    \n",
    "    def quitar_rama (self):\n",
    "        self.ramas = self.ramas-1\n",
    "        return f\"El tronco ahora tiene: {self.ramas} ramas\"\n",
    "    \n",
    "    def info_rama (self):\n",
    "        return(\"gorka\")\n",
    "    \n",
    "    def info_arbol(self):\n",
    "        return f\"el tronco mide {self.tronco} y el arbol tiene {self.ramas} ramas\""
   ]
  },
  {
   "cell_type": "code",
   "execution_count": null,
   "metadata": {},
   "outputs": [],
   "source": [
    "arbol1 = Arbol(1,0)"
   ]
  },
  {
   "cell_type": "code",
   "execution_count": null,
   "metadata": {},
   "outputs": [
    {
     "data": {
      "text/plain": [
       "<__main__.Arbol at 0x278b61a4ec0>"
      ]
     },
     "execution_count": 191,
     "metadata": {},
     "output_type": "execute_result"
    }
   ],
   "source": [
    "arbol1"
   ]
  },
  {
   "cell_type": "code",
   "execution_count": null,
   "metadata": {},
   "outputs": [
    {
     "data": {
      "text/plain": [
       "'La longitud del tronco del arbol es: 1 m y el número de ramas es: 0'"
      ]
     },
     "execution_count": 192,
     "metadata": {},
     "output_type": "execute_result"
    }
   ],
   "source": [
    "arbol1.medida_inicial()"
   ]
  },
  {
   "cell_type": "code",
   "execution_count": null,
   "metadata": {},
   "outputs": [
    {
     "data": {
      "text/plain": [
       "'El tronco del arbol ha crecido, ahora mide: 2 m'"
      ]
     },
     "execution_count": 193,
     "metadata": {},
     "output_type": "execute_result"
    }
   ],
   "source": [
    "arbol1.crecer_arbol()"
   ]
  },
  {
   "cell_type": "code",
   "execution_count": null,
   "metadata": {},
   "outputs": [
    {
     "data": {
      "text/plain": [
       "'El tronco ahora tiene: 1 ramas'"
      ]
     },
     "execution_count": 194,
     "metadata": {},
     "output_type": "execute_result"
    }
   ],
   "source": [
    "arbol1.nueva_rama()"
   ]
  },
  {
   "cell_type": "code",
   "execution_count": null,
   "metadata": {},
   "outputs": [
    {
     "data": {
      "text/plain": [
       "'El arbol tiene dos nuevas ramas. Ahora tiene 3 ramas'"
      ]
     },
     "execution_count": 195,
     "metadata": {},
     "output_type": "execute_result"
    }
   ],
   "source": [
    "arbol1.crecer_ramas(1)"
   ]
  },
  {
   "cell_type": "code",
   "execution_count": null,
   "metadata": {},
   "outputs": [
    {
     "data": {
      "text/plain": [
       "'El tronco ahora tiene: 2 ramas'"
      ]
     },
     "execution_count": 196,
     "metadata": {},
     "output_type": "execute_result"
    }
   ],
   "source": [
    "arbol1.quitar_rama ()"
   ]
  },
  {
   "cell_type": "markdown",
   "metadata": {},
   "source": [
    "36. Crea la clase UsuarioBanco ,representa a un usuario de un banco con su nombre, saldo y si tiene o no cuenta\n",
    "corriente. Proporciona métodos para realizar operaciones como retirar dinero, transferir dinero desde otro usuario y\n",
    "agregar dinero al saldo.\n",
    "\n",
    "Código a seguir:\n",
    "- Inicializar un usuario con su nombre, saldo y si tiene o no cuenta corriente mediante True y False .\n",
    "- Implementar el método retirar_dinero para retirar dinero del saldo del usuario. Lanzará un error en caso de no\n",
    "poder hacerse.\n",
    "- Implementar el método transferir_dinero para realizar una transferencia desde otro usuario al usuario actual.\n",
    "Lanzará un error en caso de no poder hacerse.\n",
    "- Implementar el método agregar_dinero para agregar dinero al saldo del usuario.\n",
    "Caso de uso:\n",
    "- Crear dos usuarios: \"Alicia\" con saldo inicial de 100 y \"Bob\" con saldo inicial de 50, ambos con cuenta corriente.\n",
    "PROYECTO LÓGICA Katas de Python\n",
    "3\n",
    "- Agregar 20 unidades de saldo de \"Bob\".\n",
    "- Hacer una transferencia de 80 unidades desde \"Bob\" a \"Alicia\".\n",
    "- Retirar 50 unidades de saldo a \"Alicia\""
   ]
  },
  {
   "cell_type": "code",
   "execution_count": 108,
   "metadata": {},
   "outputs": [
    {
     "name": "stdout",
     "output_type": "stream",
     "text": [
      "Bob ha agregado 20.00 €. Saldo actual: 70.00 €\n",
      "Bob ha retirado 80.00 €. Saldo actual: -10.00 €\n",
      "Se han transferido 80.00 € de Bob a Alicia.\n",
      "Alicia - saldo actual: 180.00 €\n",
      "Bob - saldo actual: -10.00 €\n",
      "Alicia ha retirado 50.00 €. Saldo actual: 130.00 €\n"
     ]
    }
   ],
   "source": [
    "class UsuarioBanco:\n",
    "    def __init__(self, nombre, saldo, tiene_corriente):\n",
    "        \"\"\"\n",
    "        Inicializa un usuario de banco.\n",
    "        - nombre (str): nombre del usuario.\n",
    "        - saldo (float): saldo inicial.\n",
    "        - tiene_corriente (bool): si tiene cuenta corriente.\n",
    "        \"\"\"\n",
    "        self.nombre = nombre\n",
    "        self.saldo = float(saldo)\n",
    "        self.tiene_corriente = bool(tiene_corriente)\n",
    "\n",
    "    def retirar_dinero(self, cantidad):\n",
    "        \"\"\"\n",
    "        Retira dinero del saldo del usuario.\n",
    "        Lanza ValueError si:\n",
    "        - la cantidad es negativa\n",
    "        - saldo insuficiente y no tiene cuenta corriente\n",
    "        \"\"\"\n",
    "        if cantidad <= 0:\n",
    "            raise ValueError(\"La cantidad a retirar debe ser mayor que 0.\")\n",
    "        if self.saldo < cantidad and not self.tiene_corriente:\n",
    "            raise ValueError(f\"{self.nombre} no tiene suficiente saldo y no tiene cuenta corriente.\")\n",
    "        self.saldo -= cantidad\n",
    "        print(f\"{self.nombre} ha retirado {cantidad:.2f} €. Saldo actual: {self.saldo:.2f} €\")\n",
    "\n",
    "    def transferir_dinero(self, origen, cantidad):\n",
    "        \"\"\"\n",
    "        Transfiere dinero desde otro usuario (origen) al usuario actual.\n",
    "        Lanza ValueError si el origen no puede hacer la transferencia.\n",
    "        \"\"\"\n",
    "        if cantidad <= 0:\n",
    "            raise ValueError(\"La cantidad a transferir debe ser mayor que 0.\")\n",
    "        # intentar retirar del origen\n",
    "        origen.retirar_dinero(cantidad)\n",
    "        # si fue exitoso, se agrega al destinatario\n",
    "        self.saldo += cantidad\n",
    "        print(f\"Se han transferido {cantidad:.2f} € de {origen.nombre} a {self.nombre}.\")\n",
    "        print(f\"{self.nombre} - saldo actual: {self.saldo:.2f} €\")\n",
    "        print(f\"{origen.nombre} - saldo actual: {origen.saldo:.2f} €\")\n",
    "\n",
    "    def agregar_dinero(self, cantidad):\n",
    "        \"\"\"\n",
    "        Agrega dinero al saldo del usuario.\n",
    "        Lanza ValueError si la cantidad no es positiva.\n",
    "        \"\"\"\n",
    "        if cantidad <= 0:\n",
    "            raise ValueError(\"La cantidad a agregar debe ser mayor que 0.\")\n",
    "        self.saldo += cantidad\n",
    "        print(f\"{self.nombre} ha agregado {cantidad:.2f} €. Saldo actual: {self.saldo:.2f} €\")\n",
    "\n",
    "# 1. Crear usuarios\n",
    "alicia = UsuarioBanco(\"Alicia\", 100, True)\n",
    "bob = UsuarioBanco(\"Bob\", 50, True)\n",
    "\n",
    "# 2. Bob agrega 20 €\n",
    "bob.agregar_dinero(20)\n",
    "# Salida: Bob ha agregado 20.00 €. Saldo actual: 70.00 €\n",
    "\n",
    "# 3. Transferencia de 80 € de Bob a Alicia\n",
    "alicia.transferir_dinero(bob, 80)\n",
    "# Salidas:\n",
    "# Bob ha retirado 80.00 €. Saldo actual: -10.00 €   (tiene cuenta corriente, lo permite)\n",
    "# Se han transferido 80.00 € de Bob a Alicia.\n",
    "# Alicia - saldo actual: 180.00 €\n",
    "# Bob - saldo actual: -10.00 €\n",
    "\n",
    "# 4. Alicia retira 50 €\n",
    "alicia.retirar_dinero(50)\n",
    "# Salida: Alicia ha retirado 50.00 €. Saldo actual: 130.00 €\n"
   ]
  },
  {
   "cell_type": "markdown",
   "metadata": {},
   "source": [
    "37. Crea una función llamada procesar_texto que procesa un texto según la opción especificada: contar_palabras ,\n",
    "reemplazar_palabras , eliminar_palabra . Estas opciones son otras funciones que tenemos que definir primero y llamar dentro\n",
    "de la función procesar_texto .\n",
    "Código a seguir:\n",
    "- Crear una función contar_palabras para contar el número de veces que aparece cada palabra en el texto. Tiene\n",
    "que devolver un diccionario.\n",
    "- Crear una función reemplazar_palabras para remplazar una palabra_original del texto por una palabra_nueva . Tiene\n",
    "que devolver el texto con el remplazo de palabras.\n",
    "- Crear una función eliminar_palabra para eliminar una palabra del texto. Tiene que devolver el texto con la palabra\n",
    "eliminada.\n",
    "- Crear la función procesar_texto que tome un texto, una opción(entre \"contar\", \"reemplazar\", \"eliminar\") y un\n",
    "número de argumentos variable según la opción indicada.\n",
    "\n",
    "Caso de uso:\n",
    "Comprueba el funcionamiento completo de la función procesar_texto"
   ]
  },
  {
   "cell_type": "code",
   "execution_count": 78,
   "metadata": {},
   "outputs": [
    {
     "name": "stdout",
     "output_type": "stream",
     "text": [
      "{'python': 2, 'es': 2, 'un': 1, 'lenguaje': 1, 'de': 2, 'programación.': 1, 'fácil': 1, 'aprender.': 1}\n",
      "Java es un lenguaje de programación. Java es fácil de aprender.\n",
      "Python es un lenguaje de programación. Python es  de aprender.\n"
     ]
    }
   ],
   "source": [
    "def contar_palabras(texto):\n",
    "    \"\"\"\n",
    "    Cuenta la frecuencia de cada palabra en el texto.\n",
    "    Devuelve un diccionario con la palabra como clave y su frecuencia como valor.\n",
    "    \"\"\"\n",
    "    texto = texto.lower()\n",
    "    palabras = texto.split()\n",
    "    frecuencia = {}\n",
    "    for palabra in palabras:\n",
    "        frecuencia[palabra] = frecuencia.get(palabra, 0) + 1\n",
    "    return frecuencia\n",
    "\n",
    "def reemplazar_palabras(texto, palabra_original, palabra_nueva):\n",
    "    \"\"\"\n",
    "    Reemplaza todas las ocurrencias de 'palabra_original' por 'palabra_nueva' en el texto.\n",
    "    Devuelve el texto con los reemplazos realizados.\n",
    "    \"\"\"\n",
    "    return texto.replace(palabra_original, palabra_nueva)\n",
    "\n",
    "def eliminar_palabra(texto, palabra):\n",
    "    \"\"\"\n",
    "    Elimina todas las ocurrencias de 'palabra' en el texto.\n",
    "    Devuelve el texto sin la palabra eliminada.\n",
    "    \"\"\"\n",
    "    return texto.replace(palabra, '')\n",
    "\n",
    "def procesar_texto(texto, opcion, *args):\n",
    "    \"\"\"\n",
    "    Procesa el texto según la opción especificada.\n",
    "    - 'contar': Cuenta las palabras.\n",
    "    - 'reemplazar': Reemplaza una palabra por otra.\n",
    "    - 'eliminar': Elimina una palabra del texto.\n",
    "    \"\"\"\n",
    "    if opcion == 'contar':\n",
    "        return contar_palabras(texto)\n",
    "    elif opcion == 'reemplazar' and len(args) == 2:\n",
    "        return reemplazar_palabras(texto, *args)\n",
    "    elif opcion == 'eliminar' and len(args) == 1:\n",
    "        return eliminar_palabra(texto, *args)\n",
    "    else:\n",
    "        return \"Opción o argumentos no válidos.\"\n",
    "\n",
    "texto = \"Python es un lenguaje de programación. Python es fácil de aprender.\"\n",
    "\n",
    "# Contar palabras\n",
    "print(procesar_texto(texto, 'contar'))\n",
    "\n",
    "# Reemplazar palabra\n",
    "print(procesar_texto(texto, 'reemplazar', 'Python', 'Java'))\n",
    "\n",
    "# Eliminar palabra\n",
    "print(procesar_texto(texto, 'eliminar', 'fácil'))\n"
   ]
  },
  {
   "cell_type": "markdown",
   "metadata": {},
   "source": [
    "38. Genera un programa que nos diga si es de noche, de día o tarde según la hora proporcionada por el usuario."
   ]
  },
  {
   "cell_type": "code",
   "execution_count": null,
   "metadata": {},
   "outputs": [],
   "source": [
    "def determinar_momento_del_dia(hora):\n",
    "    if 6 <= hora < 12:\n",
    "        return \"Es de día\"\n",
    "    elif 12 <= hora < 18:\n",
    "        return \"Es de tarde\"\n",
    "    elif 18 <= hora <= 23 or 0 <= hora < 6:\n",
    "        return \"Es de noche\"\n",
    "    else:\n",
    "        return \"Hora no válida\"\n",
    "\n",
    "try:\n",
    "    hora_usuario = int(input(\"Ingresa la hora (en formato 24 horas, solo el número): \"))\n",
    "    resultado = determinar_momento_del_dia(hora_usuario)\n",
    "    print(resultado)\n",
    "except ValueError:\n",
    "    print(\"Por favor, ingresa un número entero válido.\")"
   ]
  },
  {
   "cell_type": "markdown",
   "metadata": {},
   "source": [
    "39. Escribe un programa que determine qué calificación en texto tiene un alumno en base a su calificación numérica.\n",
    "Las reglas de calificación son:\n",
    "- 0 y 69 insuficiente\n",
    "- 70 y 79 bien\n",
    "- 80 y 89 muy bien\n",
    "- 90 y 100 excelente"
   ]
  },
  {
   "cell_type": "code",
   "execution_count": null,
   "metadata": {},
   "outputs": [
    {
     "name": "stdout",
     "output_type": "stream",
     "text": [
      "por favor introduce un numero comprendido entre 0 y 100\n"
     ]
    }
   ],
   "source": [
    "def calificacion (nota):\n",
    "    if nota >0 and nota <=69:\n",
    "        return \"insuficiente\"\n",
    "    elif nota>=70 and nota<=79:\n",
    "        return \"bien\"\n",
    "    elif nota>=80 and nota<=89:\n",
    "        return \"muy bien\"\n",
    "    elif nota>=90 and nota<=100:\n",
    "        return \"excelente\"\n",
    "    else:\n",
    "        return \"por favor introduce un numero comprendido entre 0 y 100\"\n",
    "    \n",
    "try:\n",
    "    calificacion_alumno = int(input())\n",
    "    nota_final = calificacion(calificacion_alumno)\n",
    "    print (nota_final)\n",
    "\n",
    "except ValueError:\n",
    "    print(\"Por favor, ingresa un número entero válido.\")\n",
    "    \n"
   ]
  },
  {
   "cell_type": "markdown",
   "metadata": {},
   "source": [
    "40. Escribe una función que tome dos parámetros: figura (una cadena que puede ser \"rectangulo\" , \"circulo\" o\n",
    "\"triangulo\" ) y datos (una tupla con los datos necesarios para calcular el área de la figura)"
   ]
  },
  {
   "cell_type": "code",
   "execution_count": null,
   "metadata": {},
   "outputs": [
    {
     "name": "stdout",
     "output_type": "stream",
     "text": [
      "50\n",
      "153.93804002589985\n",
      "16.0\n"
     ]
    }
   ],
   "source": [
    "import math\n",
    "\n",
    "def calcular_area(figura, datos):\n",
    "    figura = figura.lower()\n",
    "    \n",
    "    if figura == \"rectangulo\":\n",
    "        if len(datos) != 2:\n",
    "            raise ValueError(\"Para un rectángulo se necesitan dos datos: base y altura.\")\n",
    "        base, altura = datos\n",
    "        return base * altura\n",
    "    \n",
    "    elif figura == \"circulo\":\n",
    "        if len(datos) != 1:\n",
    "            raise ValueError(\"Para un círculo se necesita un dato: el radio.\")\n",
    "        radio, = datos\n",
    "        return math.pi * radio ** 2\n",
    "    \n",
    "    elif figura == \"triangulo\":\n",
    "        if len(datos) != 2:\n",
    "            raise ValueError(\"Para un triángulo se necesitan dos datos: base y altura.\")\n",
    "        base, altura = datos\n",
    "        return (base * altura) / 2\n",
    "    \n",
    "    else:\n",
    "        raise ValueError(\"Figura no reconocida. Usa 'rectangulo', 'circulo' o 'triangulo'.\")\n",
    "    \n",
    "\n",
    "print(calcular_area(\"rectangulo\", (5, 10)))  # 50\n",
    "print(calcular_area(\"circulo\", (7,)))        # 153.938...\n",
    "print(calcular_area(\"triangulo\", (8, 4)))    # 16.0\n"
   ]
  },
  {
   "cell_type": "markdown",
   "metadata": {},
   "source": [
    "41. En este ejercicio, se te pedirá que escribas un programa en Python que utilice condicionales para determinar el\n",
    "monto final de una compra en una tienda en línea, después de aplicar un descuento. El programa debe hacer lo\n",
    "siguiente:\n",
    "- Solicita al usuario que ingrese el precio original de un artículo.\n",
    "- Pregunta al usuario si tiene un cupón de descuento (respuesta sí o no).\n",
    "- Si el usuario responde que sí, solicita que ingrese el valor del cupón de descuento.\n",
    "- Aplica el descuento al precio original del artículo, siempre y cuando el valor del cupón sea válido (es decir, mayor\n",
    "a cero). Por ejemplo, descuento de 15€.\n",
    "- Muestra el precio final de la compra, teniendo en cuenta el descuento aplicado o sin él.\n",
    "- Recuerda utilizar estructuras de control de flujo como if, elif y else para llevar a cabo estas acciones en tu\n",
    "programa de Python"
   ]
  },
  {
   "cell_type": "code",
   "execution_count": 107,
   "metadata": {},
   "outputs": [
    {
     "name": "stdout",
     "output_type": "stream",
     "text": [
      "Precio original: 22.0€\n",
      "Descuento aplicado: 4.0€\n",
      "Precio final a pagar: 18.0€\n"
     ]
    }
   ],
   "source": [
    "def calcular_precio_final():\n",
    "    # 1) Solicita el precio original\n",
    "    precio_original = float(input(\"Ingresa el precio original del artículo: \"))\n",
    "\n",
    "    # 2) ¿Tiene cupón?\n",
    "    respuesta = input(\"¿Tienes un cupón de descuento? (sí/no): \").strip().lower()\n",
    "\n",
    "    if respuesta == \"sí\" or respuesta == \"si\":\n",
    "        # 3) Pedir valor del cupón\n",
    "        valor_cupon = float(input(\"Ingresa el valor del cupón en euros: \"))\n",
    "        if valor_cupon > 0:\n",
    "            descuento = valor_cupon\n",
    "        else:\n",
    "            print(\"El valor del cupón debe ser mayor que cero. No se aplica descuento.\")\n",
    "            descuento = 0\n",
    "    elif respuesta == \"no\":\n",
    "        descuento = 0\n",
    "    else:\n",
    "        print(\"Respuesta no reconocida. Se asume que no tienes cupón.\")\n",
    "        descuento = 0\n",
    "\n",
    "    # 4) Aplicar descuento\n",
    "    precio_final = precio_original - descuento\n",
    "    if precio_final < 0:\n",
    "        precio_final = 0\n",
    "\n",
    "    # 5) Mostrar el resultado\n",
    "    print(f\"Precio original: {precio_original}€\")\n",
    "    print(f\"Descuento aplicado: {descuento}€\")\n",
    "    print(f\"Precio final a pagar: {precio_final}€\")\n",
    "\n",
    "# Ejecutamos la función\n",
    "calcular_precio_final()\n"
   ]
  }
 ],
 "metadata": {
  "kernelspec": {
   "display_name": "Python 3",
   "language": "python",
   "name": "python3"
  },
  "language_info": {
   "codemirror_mode": {
    "name": "ipython",
    "version": 3
   },
   "file_extension": ".py",
   "mimetype": "text/x-python",
   "name": "python",
   "nbconvert_exporter": "python",
   "pygments_lexer": "ipython3",
   "version": "3.13.5"
  }
 },
 "nbformat": 4,
 "nbformat_minor": 2
}
