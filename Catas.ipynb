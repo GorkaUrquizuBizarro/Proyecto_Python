{
 "cells": [
  {
   "cell_type": "markdown",
   "metadata": {},
   "source": [
    "# PROYECTO LÓGICA: Katas de Python"
   ]
  },
  {
   "cell_type": "markdown",
   "metadata": {},
   "source": [
    "1. Escribe una función que reciba una cadena de texto como parámetro y devuelva un diccionario con las frecuencias\n",
    "de cada letra en la cadena. Los espacios no deben ser considerados."
   ]
  },
  {
   "cell_type": "code",
   "execution_count": null,
   "metadata": {},
   "outputs": [
    {
     "ename": "ValueError",
     "evalue": "dictionary update sequence element #0 has length 1; 2 is required",
     "output_type": "error",
     "traceback": [
      "\u001b[31m---------------------------------------------------------------------------\u001b[39m",
      "\u001b[31mValueError\u001b[39m                                Traceback (most recent call last)",
      "\u001b[36mCell\u001b[39m\u001b[36m \u001b[39m\u001b[32mIn[2]\u001b[39m\u001b[32m, line 16\u001b[39m\n\u001b[32m     13\u001b[39m     \u001b[38;5;28;01mreturn\u001b[39;00m resultado_conversion\n\u001b[32m     15\u001b[39m texto_a_convertir = \u001b[33m\"\u001b[39m\u001b[33mHola me llamo Gorka\u001b[39m\u001b[33m\"\u001b[39m\n\u001b[32m---> \u001b[39m\u001b[32m16\u001b[39m frecuencias = \u001b[43mfrecuencias_letra\u001b[49m\u001b[43m(\u001b[49m\u001b[43mtexto_a_convertir\u001b[49m\u001b[43m)\u001b[49m\n\u001b[32m     17\u001b[39m \u001b[38;5;28mprint\u001b[39m (frecuencias)\n",
      "\u001b[36mCell\u001b[39m\u001b[36m \u001b[39m\u001b[32mIn[2]\u001b[39m\u001b[32m, line 11\u001b[39m, in \u001b[36mfrecuencias_letra\u001b[39m\u001b[34m(texto)\u001b[39m\n\u001b[32m      1\u001b[39m \u001b[38;5;28;01mdef\u001b[39;00m\u001b[38;5;250m \u001b[39m\u001b[34mfrecuencias_letra\u001b[39m (texto):\n\u001b[32m      2\u001b[39m \u001b[38;5;250m    \u001b[39m\u001b[33;03m\"\"\"_summary_\u001b[39;00m\n\u001b[32m      3\u001b[39m \u001b[33;03m    Función que recibe una cadena de texto y devuelve un diccionario con las frecuencias de cada frecuencias_letra\u001b[39;00m\n\u001b[32m      4\u001b[39m \n\u001b[32m   (...)\u001b[39m\u001b[32m      9\u001b[39m \u001b[33;03m        diccionario (dict):\u001b[39;00m\n\u001b[32m     10\u001b[39m \u001b[33;03m    \"\"\"\u001b[39;00m\n\u001b[32m---> \u001b[39m\u001b[32m11\u001b[39m     resultado_conversion = \u001b[38;5;28;43mdict\u001b[39;49m\u001b[43m(\u001b[49m\u001b[43mtexto\u001b[49m\u001b[43m)\u001b[49m\n\u001b[32m     13\u001b[39m     \u001b[38;5;28;01mreturn\u001b[39;00m resultado_conversion\n",
      "\u001b[31mValueError\u001b[39m: dictionary update sequence element #0 has length 1; 2 is required"
     ]
    }
   ],
   "source": [
    "def frecuencias_letra (texto):\n",
    "    \"\"\"_summary_\n",
    "    Función que recibe una cadena de texto y devuelve un diccionario con las frecuencias de cada frecuencias_letra\n",
    "\n",
    "    Args:\n",
    "        texto (str): cadena de texto\n",
    "\n",
    "    Returns:\n",
    "        diccionario (dict):\n",
    "    \"\"\"\n",
    "    resultado_conversion = dict(texto)\n",
    "    for elemento in texto_a_convertir:\n",
    "        \n",
    "    return resultado_conversion\n",
    "\n",
    "texto_a_convertir = \"Hola me llamo Gorka\"\n",
    "frecuencias = frecuencias_letra(texto_a_convertir)\n",
    "print (frecuencias)"
   ]
  },
  {
   "cell_type": "markdown",
   "metadata": {},
   "source": []
  },
  {
   "cell_type": "markdown",
   "metadata": {},
   "source": [
    "2. Dada una lista de números, obtén una nueva lista con el doble de cada valor. Usa la función map."
   ]
  },
  {
   "cell_type": "code",
   "execution_count": 66,
   "metadata": {},
   "outputs": [
    {
     "name": "stdout",
     "output_type": "stream",
     "text": [
      "[2, 4, 6, 8, 10, 12, 14, 16, 18, 20]\n"
     ]
    }
   ],
   "source": [
    "lista_números1 = [1,2,3,4,5,6,7,8,9,10]\n",
    "lista_números2 = list (map (lambda x:x*2,lista_números1))\n",
    "print (lista_números2)"
   ]
  },
  {
   "cell_type": "markdown",
   "metadata": {},
   "source": [
    "3. Escribe una función que tome una lista de palabras y una palabra objetivo como parámetros. La función debe\n",
    "devolver una lista con todas las palabras de la lista original que contengan la palabra objetivo."
   ]
  },
  {
   "cell_type": "code",
   "execution_count": null,
   "metadata": {},
   "outputs": [
    {
     "ename": "TypeError",
     "evalue": "'str' object is not callable",
     "output_type": "error",
     "traceback": [
      "\u001b[31m---------------------------------------------------------------------------\u001b[39m",
      "\u001b[31mTypeError\u001b[39m                                 Traceback (most recent call last)",
      "\u001b[36mCell\u001b[39m\u001b[36m \u001b[39m\u001b[32mIn[67]\u001b[39m\u001b[32m, line 4\u001b[39m\n\u001b[32m      1\u001b[39m lista_palabras = [\u001b[33m\"\u001b[39m\u001b[33mmanzana\u001b[39m\u001b[33m\"\u001b[39m,\u001b[33m\"\u001b[39m\u001b[33mpera\u001b[39m\u001b[33m\"\u001b[39m,\u001b[33m\"\u001b[39m\u001b[33mplatano\u001b[39m\u001b[33m\"\u001b[39m,\u001b[33m\"\u001b[39m\u001b[33msandia\u001b[39m\u001b[33m\"\u001b[39m,\u001b[33m\"\u001b[39m\u001b[33mfresas\u001b[39m\u001b[33m\"\u001b[39m,\u001b[33m\"\u001b[39m\u001b[33mmandarina\u001b[39m\u001b[33m\"\u001b[39m,\u001b[33m\"\u001b[39m\u001b[33mnaranja\u001b[39m\u001b[33m\"\u001b[39m]\n\u001b[32m      2\u001b[39m palabra_objetivo = \u001b[33m\"\u001b[39m\u001b[33mna\u001b[39m\u001b[33m\"\u001b[39m\n\u001b[32m----> \u001b[39m\u001b[32m4\u001b[39m lista_final =\u001b[38;5;28;43mlist\u001b[39;49m\u001b[43m(\u001b[49m\u001b[38;5;28;43mfilter\u001b[39;49m\u001b[43m(\u001b[49m\u001b[43mpalabra_objetivo\u001b[49m\u001b[43m,\u001b[49m\u001b[43m \u001b[49m\u001b[43mlista_palabras\u001b[49m\u001b[43m)\u001b[49m\u001b[43m)\u001b[49m\n\u001b[32m      5\u001b[39m \u001b[38;5;28mprint\u001b[39m (lista_final)\n",
      "\u001b[31mTypeError\u001b[39m: 'str' object is not callable"
     ]
    }
   ],
   "source": [
    "def lista_palabra_objetivo (palabras):\n",
    "    lista_vacia = []\n",
    "    if palabras \n",
    "\n",
    "lista_palabras = [\"manzana\",\"pera\",\"platano\",\"sandia\",\"fresas\",\"mandarina\",\"naranja\",\"manzana\"]\n",
    "palabra_objetivo = \"manzana\"\n",
    "\n",
    "lista_final =list(filter(palabra_objetivo, lista_palabras))\n",
    "print (lista_final)"
   ]
  },
  {
   "cell_type": "markdown",
   "metadata": {},
   "source": [
    "4. Genera una función que calcule la diferencia entre los valores de dos listas. Usa la función map()"
   ]
  },
  {
   "cell_type": "code",
   "execution_count": null,
   "metadata": {},
   "outputs": [
    {
     "name": "stdout",
     "output_type": "stream",
     "text": [
      "[-9, -7, -5, -3, -1, 1, 3, 5, 7, 9]\n"
     ]
    }
   ],
   "source": [
    "lista1 = [1,2,3,4,5,6,7,8,9,10]\n",
    "lista2 = [10,9,8,7,6,5,4,3,2,1]\n",
    "\n",
    "diferencia = list (map (lambda x,y: x-y, lista1, lista2))\n",
    "print (diferencia)"
   ]
  },
  {
   "cell_type": "markdown",
   "metadata": {},
   "source": [
    "5.Ecribe una función que tome una lista de números como parámetro y un valor opcional nota_aprobado, que por\n",
    "defecto es 5. La función debe calcular la media de los números en la lista y determinar si la media es mayor o igual\n",
    "que nota aprobado. Si es así, el estado será \"aprobado\", de lo contrario, será \"suspenso\". La función debe devolver\n",
    "una tupla que contenga la media y el estado."
   ]
  },
  {
   "cell_type": "code",
   "execution_count": null,
   "metadata": {},
   "outputs": [
    {
     "name": "stdout",
     "output_type": "stream",
     "text": [
      "La nota media final es: 5.69\n",
      "El estado final es: Aprobado\n"
     ]
    }
   ],
   "source": [
    "def calcular_media (iterable_numeros,nota_aprobado):\n",
    "    estado = \"Suspenso\"\n",
    "    media = round (sum (iterable_numeros)/len(iterable_numeros),2)\n",
    "    if media >= nota_aprobado:\n",
    "        estado =\"Aprobado\"\n",
    "    return media,estado\n",
    "\n",
    "lista_notas = [5.6,3.8,5,6.7,2.3,8,8.4]\n",
    "media_final,estado_final = calcular_media(iterable_numeros=lista_notas, nota_aprobado=5)\n",
    "print (f\"La nota media final es: {media_final}\")\n",
    "print (f\"El estado final es: {estado_final}\")\n"
   ]
  },
  {
   "cell_type": "markdown",
   "metadata": {},
   "source": [
    "6. Escribe una función que calcule el factorial de un número de manera recursiva."
   ]
  },
  {
   "cell_type": "code",
   "execution_count": 119,
   "metadata": {},
   "outputs": [
    {
     "name": "stdout",
     "output_type": "stream",
     "text": [
      "120\n"
     ]
    }
   ],
   "source": [
    "def calcular_factorial (numero):\n",
    "    if numero == 0:\n",
    "        return 1\n",
    "    else:\n",
    "        return numero * calcular_factorial (numero-1)\n",
    "\n",
    "numero_factorial = calcular_factorial(5)\n",
    "print (numero_factorial)"
   ]
  },
  {
   "cell_type": "markdown",
   "metadata": {},
   "source": [
    "7. Genera una función que convierta una lista de tuplas a una lista de strings. Usa la función map()"
   ]
  },
  {
   "cell_type": "code",
   "execution_count": 47,
   "metadata": {},
   "outputs": [
    {
     "ename": "TypeError",
     "evalue": "'int' object is not iterable",
     "output_type": "error",
     "traceback": [
      "\u001b[31m---------------------------------------------------------------------------\u001b[39m",
      "\u001b[31mTypeError\u001b[39m                                 Traceback (most recent call last)",
      "\u001b[36mCell\u001b[39m\u001b[36m \u001b[39m\u001b[32mIn[47]\u001b[39m\u001b[32m, line 6\u001b[39m\n\u001b[32m      3\u001b[39m     \u001b[38;5;28;01mreturn\u001b[39;00m resultado_conversión \n\u001b[32m      5\u001b[39m lista_tupla = (\u001b[32m1\u001b[39m,\u001b[32m2\u001b[39m,\u001b[32m3\u001b[39m,\u001b[32m4\u001b[39m,\u001b[33m\"\u001b[39m\u001b[33mgorka\u001b[39m\u001b[33m\"\u001b[39m)\n\u001b[32m----> \u001b[39m\u001b[32m6\u001b[39m lista_string = \u001b[38;5;28;43mlist\u001b[39;49m\u001b[43m \u001b[49m\u001b[43m(\u001b[49m\u001b[38;5;28;43mmap\u001b[39;49m\u001b[43m \u001b[49m\u001b[43m(\u001b[49m\u001b[43mconvertir_lista_string\u001b[49m\u001b[43m,\u001b[49m\u001b[43m \u001b[49m\u001b[43mlista_tupla\u001b[49m\u001b[43m)\u001b[49m\u001b[43m)\u001b[49m\n",
      "\u001b[36mCell\u001b[39m\u001b[36m \u001b[39m\u001b[32mIn[47]\u001b[39m\u001b[32m, line 2\u001b[39m, in \u001b[36mconvertir_lista_string\u001b[39m\u001b[34m(lista_tupla)\u001b[39m\n\u001b[32m      1\u001b[39m \u001b[38;5;28;01mdef\u001b[39;00m\u001b[38;5;250m \u001b[39m\u001b[34mconvertir_lista_string\u001b[39m (lista_tupla):\n\u001b[32m----> \u001b[39m\u001b[32m2\u001b[39m     resultado_conversión = \u001b[38;5;28;43mlist\u001b[39;49m\u001b[43m \u001b[49m\u001b[43m(\u001b[49m\u001b[43mlista_tupla\u001b[49m\u001b[43m)\u001b[49m\n\u001b[32m      3\u001b[39m     \u001b[38;5;28;01mreturn\u001b[39;00m resultado_conversión\n",
      "\u001b[31mTypeError\u001b[39m: 'int' object is not iterable"
     ]
    }
   ],
   "source": [
    "def convertir_lista_string (lista_tupla):\n",
    "    resultado_conversión = list (lista_tupla)\n",
    "    return resultado_conversión \n",
    "\n",
    "lista_tupla = (1,2,3,4,\"gorka\")\n",
    "lista_string = list (map (convertir_lista_string, lista_tupla))"
   ]
  },
  {
   "cell_type": "markdown",
   "metadata": {},
   "source": [
    "8. Escribe un programa que pida al usuario dos números e intente dividirlos. Si el usuario ingresa un valor no numérico o intenta dividir por cero, maneja esas excepciones de manera adecuada. Asegúrate de mostrar un mensaje\n",
    "indicando si la división fue exitosa o no."
   ]
  },
  {
   "cell_type": "code",
   "execution_count": 200,
   "metadata": {},
   "outputs": [
    {
     "name": "stdout",
     "output_type": "stream",
     "text": [
      "Error: Por favor, introduce valores numéricos.\n"
     ]
    }
   ],
   "source": [
    "def dividir_numeros():\n",
    "    try:\n",
    "        # Solicitar al usuario el primer número\n",
    "        num1 = float(input(\"Introduce el primer número: \"))\n",
    "        # Solicitar al usuario el segundo número\n",
    "        num2 = float(input(\"Introduce el segundo número: \"))\n",
    "        \n",
    "        # Intentar realizar la división\n",
    "        resultado = num1 / num2\n",
    "    except ValueError:\n",
    "        # Manejar el caso en que el usuario ingrese un valor no numérico\n",
    "        print(\"Error: Por favor, introduce valores numéricos.\")\n",
    "    except ZeroDivisionError:\n",
    "        # Manejar el caso en que el usuario intente dividir por cero\n",
    "        print(\"Error: No se puede dividir por cero.\")\n",
    "    else:\n",
    "        # Si no hubo excepciones, mostrar el resultado de la división\n",
    "        print(f\"La división fue exitosa. El resultado es: {resultado}\")\n",
    "\n",
    "# Llamar a la función para ejecutar el programa\n",
    "dividir_numeros()\n"
   ]
  },
  {
   "cell_type": "markdown",
   "metadata": {},
   "source": [
    "9. -Escribe una función que tome una lista de nombres de mascotas como parámetro y devuelva una nueva lista\n",
    "excluyendo ciertas mascotas prohibidas en España. La lista de mascotas a excluir es [\"Mapache\", \"Tigre\",\n",
    "\"Serpiente Pitón\", \"Cocodrilo\", \"Oso\"].Usa la función filter()"
   ]
  },
  {
   "cell_type": "code",
   "execution_count": 222,
   "metadata": {},
   "outputs": [
    {
     "ename": "NameError",
     "evalue": "name 'lista_mascotas_aceptadas_españa' is not defined",
     "output_type": "error",
     "traceback": [
      "\u001b[31m---------------------------------------------------------------------------\u001b[39m",
      "\u001b[31mNameError\u001b[39m                                 Traceback (most recent call last)",
      "\u001b[36mCell\u001b[39m\u001b[36m \u001b[39m\u001b[32mIn[222]\u001b[39m\u001b[32m, line 9\u001b[39m\n\u001b[32m      6\u001b[39m     \u001b[38;5;28;01mreturn\u001b[39;00m lista_mascotas_aceptadas_españa\n\u001b[32m      8\u001b[39m lista_mascotas = [\u001b[33m\"\u001b[39m\u001b[33mGato\u001b[39m\u001b[33m\"\u001b[39m, \u001b[33m\"\u001b[39m\u001b[33mPerro\u001b[39m\u001b[33m\"\u001b[39m, \u001b[33m\"\u001b[39m\u001b[33mMapache\u001b[39m\u001b[33m\"\u001b[39m,\u001b[33m\"\u001b[39m\u001b[33mPeriquito\u001b[39m\u001b[33m\"\u001b[39m]\n\u001b[32m----> \u001b[39m\u001b[32m9\u001b[39m \u001b[43mmascotas_ok\u001b[49m\u001b[43m \u001b[49m\u001b[43m(\u001b[49m\u001b[43mlista_mascotas\u001b[49m\u001b[43m)\u001b[49m\n",
      "\u001b[36mCell\u001b[39m\u001b[36m \u001b[39m\u001b[32mIn[222]\u001b[39m\u001b[32m, line 6\u001b[39m, in \u001b[36mmascotas_ok\u001b[39m\u001b[34m(lista_mascotas)\u001b[39m\n\u001b[32m      4\u001b[39m \u001b[38;5;28;01melse\u001b[39;00m:\n\u001b[32m      5\u001b[39m     \u001b[38;5;28;01mpass\u001b[39;00m\n\u001b[32m----> \u001b[39m\u001b[32m6\u001b[39m \u001b[38;5;28;01mreturn\u001b[39;00m \u001b[43mlista_mascotas_aceptadas_españa\u001b[49m\n",
      "\u001b[31mNameError\u001b[39m: name 'lista_mascotas_aceptadas_españa' is not defined"
     ]
    }
   ],
   "source": [
    "def mascotas_ok (lista_mascotas):\n",
    "    if lista_mascotas == \"Mapache\":\n",
    "        lista_mascotas_aceptadas_españa.append (lista_mascotas)\n",
    "    else:\n",
    "        pass\n",
    "    return lista_mascotas_aceptadas_españa\n",
    "\n",
    "lista_mascotas = [\"Gato\", \"Perro\", \"Mapache\",\"Periquito\"]\n",
    "mascotas_ok (lista_mascotas)"
   ]
  },
  {
   "cell_type": "markdown",
   "metadata": {},
   "source": [
    "10. Escribe una función que reciba una lista de números y calcule su promedio. Si la lista está vacía, lanza una\n",
    "excepción personalizada y maneja el error adecuadamente."
   ]
  },
  {
   "cell_type": "code",
   "execution_count": 84,
   "metadata": {},
   "outputs": [
    {
     "name": "stdout",
     "output_type": "stream",
     "text": [
      "No hay ningún valor para poder hacer la media\n",
      "La media final es: None\n"
     ]
    }
   ],
   "source": [
    "def calcular_media (iterable_numeros):\n",
    "    if len (lista_numeros)> 0:\n",
    "        media = round (sum (iterable_numeros)/len(iterable_numeros),2)\n",
    "        return (media)\n",
    "    else:\n",
    "        print (\"No hay ningún valor para poder hacer la media\")\n",
    "\n",
    "lista_numeros = []\n",
    "resultado_media = calcular_media (iterable_numeros = lista_numeros)\n",
    "print (f\"La media final es: {resultado_media}\")\n"
   ]
  },
  {
   "cell_type": "markdown",
   "metadata": {},
   "source": [
    "11. Escribe un programa que pida al usuario que introduzca su edad. Si el usuario ingresa un valor no numérico o un\n",
    "valor fuera del rango esperado (por ejemplo, menor que 0 o mayor que 120), maneja las excepciones\n",
    "adecuadamente."
   ]
  },
  {
   "cell_type": "code",
   "execution_count": 23,
   "metadata": {},
   "outputs": [
    {
     "name": "stdout",
     "output_type": "stream",
     "text": [
      "El valor introducido no es correcto. Debe estar entre 0 y 120\n"
     ]
    }
   ],
   "source": [
    "try:\n",
    "        # Solicitar al usuario el primer número\n",
    "        edad = int(input(\"Introduce el primer número: \"))  \n",
    "        if edad>0 and edad<120:\n",
    "                print (f\"La edad introducida es: {edad}\")\n",
    "        else:\n",
    "                print(\"El valor introducido no es correcto. Debe estar entre 0 y 120\")\n",
    "except ValueError:\n",
    "        # Manejar el caso en que el usuario ingrese un valor no numérico\n",
    "        print(\"Error: Por favor, introduce valores numéricos\")"
   ]
  },
  {
   "cell_type": "markdown",
   "metadata": {},
   "source": [
    "12. Genera una función que al recibir una frase devuelva una lista con la longitud de cada palabra. Usa la función map()"
   ]
  },
  {
   "cell_type": "code",
   "execution_count": 108,
   "metadata": {},
   "outputs": [
    {
     "name": "stdout",
     "output_type": "stream",
     "text": [
      "[1, 1, 1, 1, 1, 1, 1, 1, 1, 1, 1]\n",
      "Buenos dias\n"
     ]
    }
   ],
   "source": [
    "frase = (\"Buenos dias\")\n",
    "longitud_palabra =list (map(lambda x: len(x), frase))\n",
    "print (longitud_palabra)\n",
    "print (frase)"
   ]
  },
  {
   "cell_type": "markdown",
   "metadata": {},
   "source": [
    "13. Genera una función la cual, para un conjunto de caracteres, devuelva una lista de tuplas con cada letra en\n",
    "mayúsculas y minúsculas. Las letras no pueden estar repetidas .Usa la función map()"
   ]
  },
  {
   "cell_type": "markdown",
   "metadata": {},
   "source": [
    "14. Crea una función que retorne las palabras de una lista de palabras que comience con una letra en especifico. Usa la función filter()"
   ]
  },
  {
   "cell_type": "code",
   "execution_count": 31,
   "metadata": {},
   "outputs": [
    {
     "name": "stdout",
     "output_type": "stream",
     "text": [
      "['unax', 'unai', 'Ugaitz', 'Urtziol']\n"
     ]
    }
   ],
   "source": [
    "lista_palabras = [\"gorka\",\"joseba\",\"unax\",\"unai\",\"Ugaitz\", \"Urtziol\"]\n",
    "\n",
    "def letra_especifica (lista):\n",
    "    \n",
    "    lista_resultado = []\n",
    "    for palabra in lista:\n",
    "        lista = lista.lower()\n",
    "        if lista[0]==\"u\":\n",
    "            lista_resultado.append(lista)\n",
    "        else:\n",
    "            continue\n",
    "    return (lista_resultado)\n",
    "\n",
    "resultado = list(filter(letra_especifica ,lista_palabras))\n",
    "print(resultado)"
   ]
  },
  {
   "cell_type": "markdown",
   "metadata": {},
   "source": [
    "15. Crea una función lambda que sume 3 a cada número de una lista dada."
   ]
  },
  {
   "cell_type": "code",
   "execution_count": 72,
   "metadata": {},
   "outputs": [
    {
     "name": "stdout",
     "output_type": "stream",
     "text": [
      "[4, 5, 6, 7, 8, 9, 10, 11, 12]\n"
     ]
    }
   ],
   "source": [
    "lista_numeros = (1,2,3,4,5,6,7,8,9)\n",
    "resultado = list (map(lambda x: x+3, lista_numeros))\n",
    "\n",
    "print (resultado)"
   ]
  },
  {
   "cell_type": "markdown",
   "metadata": {},
   "source": [
    "16. Escribe una función que tome una cadena de texto y un número entero n como parámetros y devuelva una lista de\n",
    "todas las palabras que sean más largas que n. Usa la función filter()."
   ]
  },
  {
   "cell_type": "code",
   "execution_count": 156,
   "metadata": {},
   "outputs": [
    {
     "name": "stdout",
     "output_type": "stream",
     "text": [
      "['Hola', 'mundo', 'hoy', 'ser', 'dia', 'espectacular']\n"
     ]
    }
   ],
   "source": [
    "def palabras_mas_largas_que(texto, n):\n",
    "    # Dividir el texto en palabras\n",
    "    palabras = texto.split()\n",
    "    \n",
    "    # Usar filter para obtener las palabras más largas que n\n",
    "    palabras_largas = list(filter(lambda palabra: len(palabra) > n, palabras))\n",
    "    \n",
    "    return palabras_largas\n",
    "\n",
    "# Ejemplo de uso\n",
    "texto = \"Hola mundo hoy va a ser un dia espectacular\"\n",
    "n = 2\n",
    "resultado = palabras_mas_largas_que(texto, n)\n",
    "print(resultado)  "
   ]
  },
  {
   "cell_type": "markdown",
   "metadata": {},
   "source": [
    "17. Crea una función que tome una lista de dígitos y devuelva el número correspondiente. Por ejemplo, [5,7,2]\n",
    "corresponde al número quinientos setenta y dos (572). Usa la función reduce()."
   ]
  },
  {
   "cell_type": "code",
   "execution_count": 39,
   "metadata": {},
   "outputs": [
    {
     "name": "stdout",
     "output_type": "stream",
     "text": [
      "[5, 7, 2]\n"
     ]
    }
   ],
   "source": [
    "from functools import reduce\n",
    "\n",
    "lista_numeros= [5,7,2]\n",
    "\n",
    "def concatenar (lista):\n",
    "    for elemento in lista:\n",
    "        str(lista)\n",
    "    return  (lista)\n",
    "\n",
    "resultado = concatenar(lista_numeros)\n",
    "print (resultado)"
   ]
  },
  {
   "cell_type": "markdown",
   "metadata": {},
   "source": [
    "18. Escribe un programa en Python que cree una lista de diccionarios que contenga información de estudiantes\n",
    "(nombre, edad, calificación) y use la función filter para extraer a los estudiantes con una calificación mayor o igual a 90. Usa la función filter() "
   ]
  },
  {
   "cell_type": "code",
   "execution_count": null,
   "metadata": {},
   "outputs": [
    {
     "name": "stdout",
     "output_type": "stream",
     "text": [
      "[{'nombre': 'Luis', 'edad': 22, 'calificación': 92}, {'nombre': 'Carlos', 'edad': 21, 'calificación': 95}]\n"
     ]
    }
   ],
   "source": [
    "# Lista de diccionarios con información de estudiantes\n",
    "estudiantes = [\n",
    "    {\"nombre\": \"Ana\", \"edad\": 20, \"calificación\": 85},\n",
    "    {\"nombre\": \"Luis\", \"edad\": 22, \"calificación\": 92},\n",
    "    {\"nombre\": \"María\", \"edad\": 19, \"calificación\": 88},\n",
    "    {\"nombre\": \"Carlos\", \"edad\": 21, \"calificación\": 95},\n",
    "    {\"nombre\": \"Elena\", \"edad\": 23, \"calificación\": 78}\n",
    "]\n",
    "\n",
    "# Función para filtrar estudiantes con calificación mayor o igual a 90\n",
    "def calificacion_alta(estudiante):\n",
    "    return estudiante[\"calificación\"] >= 90\n",
    "\n",
    "# Uso de la función filter para extraer los estudiantes con calificación alta\n",
    "estudiantes_con_calificacion_alta = list(filter(calificacion_alta, estudiantes))\n",
    "\n",
    "# Imprimir la lista de estudiantes con calificación alta\n",
    "print(estudiantes_con_calificacion_alta)"
   ]
  },
  {
   "cell_type": "markdown",
   "metadata": {},
   "source": [
    "19. Crea una función lambda que filtre los números impares de una lista dada."
   ]
  },
  {
   "cell_type": "code",
   "execution_count": 88,
   "metadata": {},
   "outputs": [
    {
     "name": "stdout",
     "output_type": "stream",
     "text": [
      "[12, 24, 92, 74, 22, 2, 48, 92]\n"
     ]
    }
   ],
   "source": [
    "lista_numeros =[12,24,92,74,22,2,48,92]\n",
    "numeros_impares = list (filter (lambda x: x%2 ==0, lista_numeros))\n",
    "print (numeros_impares)"
   ]
  },
  {
   "cell_type": "markdown",
   "metadata": {},
   "source": [
    "20. Para una lista con elementos tipo integer y string obtén una nueva lista sólo con los valores int. Usa la función\n",
    "filter() "
   ]
  },
  {
   "cell_type": "code",
   "execution_count": null,
   "metadata": {},
   "outputs": [],
   "source": [
    "filter(funcion,iterable)\n",
    "\n",
    "lista = [1,\"gorka\",2,\"joseba\"]\n",
    "\n",
    "def valores_int (lista_datos):\n",
    "    if lista_datos "
   ]
  },
  {
   "cell_type": "markdown",
   "metadata": {},
   "source": [
    "21. Crea una función que calcule el cubo de un número dado mediante una función lambda.\n"
   ]
  },
  {
   "cell_type": "code",
   "execution_count": 80,
   "metadata": {},
   "outputs": [
    {
     "name": "stdout",
     "output_type": "stream",
     "text": [
      "El cubo de 2 es 8\n"
     ]
    }
   ],
   "source": [
    "# Definir una función lambda para calcular el cubo de un número\n",
    "cubo = lambda x: x ** 3\n",
    "\n",
    "# Número de ejemplo\n",
    "numero = int(input(\"Introduce un numero\"))\n",
    "\n",
    "# Calcular el cubo del número\n",
    "resultado = cubo(numero)\n",
    "\n",
    "# Imprimir el resultado\n",
    "print(f\"El cubo de {numero} es {resultado}\")"
   ]
  },
  {
   "cell_type": "markdown",
   "metadata": {},
   "source": [
    "22. Dada una lista numérica, obtén el producto total de los valores de dicha lista.Usa la función reduce() .\n"
   ]
  },
  {
   "cell_type": "code",
   "execution_count": 34,
   "metadata": {},
   "outputs": [
    {
     "name": "stdout",
     "output_type": "stream",
     "text": [
      "El producto total de los valores de la lista es: 45\n"
     ]
    }
   ],
   "source": [
    "from functools import reduce\n",
    "\n",
    "def suma(numero1,numero2):\n",
    "    suma =numero1+numero2\n",
    "    return suma\n",
    "    \n",
    "lista_numerica = [1,2,3,4,5,6,7,8,9]\n",
    "producto_total = reduce(suma,lista_numerica)\n",
    "\n",
    "print (f\"El producto total de los valores de la lista es: {producto_total}\")"
   ]
  },
  {
   "cell_type": "markdown",
   "metadata": {},
   "source": [
    "23. Concatena una lista de palabras.Usa la función reduce() .\n"
   ]
  },
  {
   "cell_type": "code",
   "execution_count": 47,
   "metadata": {},
   "outputs": [
    {
     "name": "stdout",
     "output_type": "stream",
     "text": [
      "El resultado de la función reduce usando lambdas es: HolamellamoGorka\n"
     ]
    }
   ],
   "source": [
    "from functools import reduce\n",
    "\n",
    "lista_palabras = [\"Hola\",\"me\",\"llamo\",\"Gorka\"]\n",
    "# Podemos usar reduce con una función lambda\n",
    "resultado_reduce_lambda = reduce(lambda x, y: x+y, lista_palabras)\n",
    "\n",
    "print(f\"El resultado de la función reduce usando lambdas es: {resultado_reduce_lambda}\")"
   ]
  },
  {
   "cell_type": "markdown",
   "metadata": {},
   "source": [
    "24. Calcula la diferencia total en los valores de una lista. Usa la función reduce() .\n"
   ]
  },
  {
   "cell_type": "markdown",
   "metadata": {},
   "source": [
    "25. Crea una función que cuente el número de caracteres en una cadena de texto dada."
   ]
  },
  {
   "cell_type": "code",
   "execution_count": 151,
   "metadata": {},
   "outputs": [
    {
     "name": "stdout",
     "output_type": "stream",
     "text": [
      "35\n"
     ]
    }
   ],
   "source": [
    "def contar_caracteres (cadena):\n",
    "    return len(cadena)\n",
    "\n",
    "cadena = \"Hola mundo hoy va a ser un gran día\"\n",
    "numero_caracteres = contar_caracteres (cadena)\n",
    "print (numero_caracteres)\n"
   ]
  },
  {
   "cell_type": "markdown",
   "metadata": {},
   "source": [
    "26. Crea una función lambda que calcule el resto de la división entre dos números dados.\n"
   ]
  },
  {
   "cell_type": "markdown",
   "metadata": {},
   "source": [
    "27. Crea una función que calcule el promedio de una lista de números.\n"
   ]
  },
  {
   "cell_type": "code",
   "execution_count": 144,
   "metadata": {},
   "outputs": [
    {
     "name": "stdout",
     "output_type": "stream",
     "text": [
      "20.86\n"
     ]
    }
   ],
   "source": [
    "def calcular_promedio (numeros):\n",
    "    promedio = round (sum (numeros)/len(numeros),2)\n",
    "    return promedio\n",
    "\n",
    "numeros = [1,2,3,4,5,6,7,8,23,34,32,26,87,54]\n",
    "promedio_numeros = calcular_promedio (numeros)\n",
    "print (promedio_numeros)"
   ]
  },
  {
   "cell_type": "markdown",
   "metadata": {},
   "source": [
    "28. Crea una función que busque y devuelva el primer elemento duplicado en una lista dada.\n",
    "."
   ]
  },
  {
   "cell_type": "code",
   "execution_count": null,
   "metadata": {},
   "outputs": [
    {
     "name": "stdout",
     "output_type": "stream",
     "text": [
      "3\n"
     ]
    }
   ],
   "source": [
    "def primer_duplicado(lista):\n",
    "    elementos_vistos = set()\n",
    "    for elemento in lista:\n",
    "        if elemento in elementos_vistos:\n",
    "            return elemento\n",
    "        elementos_vistos.add(elemento)\n",
    "    return None\n",
    "\n",
    "lista = [1, 2, 3, 4, 5, 3, 6, 7]\n",
    "print(primer_duplicado(lista)) "
   ]
  },
  {
   "cell_type": "markdown",
   "metadata": {},
   "source": [
    "29. Crea una función que convierta una variable en una cadena de texto y enmascare todos los caracteres con el\n",
    "carácter '#', excepto los últimos cuatro.\n"
   ]
  },
  {
   "cell_type": "code",
   "execution_count": 38,
   "metadata": {},
   "outputs": [
    {
     "name": "stdout",
     "output_type": "stream",
     "text": [
      "**3456\n"
     ]
    }
   ],
   "source": [
    "def enmascarar_variable(variable):\n",
    "    # Convertir la variable a cadena de texto\n",
    "    cadena = str(variable)\n",
    "    # Enmascarar todos los caracteres excepto los últimos cuatro\n",
    "    if len(cadena) > 4:\n",
    "        enmascarada = '*' * (len(cadena) - 4) + cadena[-4:]\n",
    "    else:\n",
    "        enmascarada = cadena\n",
    "    return enmascarada\n",
    "\n",
    "variable = 123456\n",
    "print(enmascarar_variable(variable))\n"
   ]
  },
  {
   "cell_type": "markdown",
   "metadata": {},
   "source": [
    "30. Crea una función que determine si dos palabras son anagramas, es decir, si están formadas por las mismas letras\n",
    "pero en diferente orden"
   ]
  },
  {
   "cell_type": "code",
   "execution_count": 39,
   "metadata": {},
   "outputs": [
    {
     "name": "stdout",
     "output_type": "stream",
     "text": [
      "True\n",
      "False\n"
     ]
    }
   ],
   "source": [
    "def son_anagramas(palabra1, palabra2):\n",
    "    # Convertir las palabras a minúsculas para evitar problemas con mayúsculas\n",
    "    palabra1 = palabra1.lower()\n",
    "    palabra2 = palabra2.lower()\n",
    "    \n",
    "    # Ordenar las letras de ambas palabras y compararlas\n",
    "    return sorted(palabra1) == sorted(palabra2)\n",
    "\n",
    "# Ejemplo de uso\n",
    "print(son_anagramas(\"amor\", \"roma\"))  # Debería devolver True\n",
    "print(son_anagramas(\"hola\", \"adios\"))  # Debería devolver False"
   ]
  },
  {
   "cell_type": "markdown",
   "metadata": {},
   "source": [
    "31. Crea una función que solicite al usuario ingresar una lista de nombres y luego solicite un nombre para buscar en\n",
    "esa lista. Si el nombre está en la lista, se imprime un mensaje indicando que fue encontrado, de lo contrario, se\n",
    "lanza una excepción"
   ]
  },
  {
   "cell_type": "code",
   "execution_count": null,
   "metadata": {},
   "outputs": [],
   "source": [
    "def buscar_nombre():\n",
    "    try:\n",
    "        # Solicitar al usuario que ingrese una lista de nombres\n",
    "        nombres = input(\"Ingresa una lista de nombres separados por comas: \").split(',')\n",
    "        # Eliminar espacios en blanco alrededor de los nombres\n",
    "        nombres = [nombre.strip() for nombre in nombres]\n",
    "        \n",
    "        # Solicitar al usuario que ingrese el nombre a buscar\n",
    "        nombre_a_buscar = input(\"Ingresa el nombre que deseas buscar: \").strip()\n",
    "        \n",
    "        # Buscar el nombre en la lista\n",
    "        if nombre_a_buscar in nombres:\n",
    "            print(f\"El nombre '{nombre_a_buscar}' fue encontrado en la lista.\")\n",
    "        else:\n",
    "            raise ValueError(f\"El nombre '{nombre_a_buscar}' no se encuentra en la lista.\")\n",
    "    \n",
    "    except ValueError as e:\n",
    "        print(e)\n",
    "\n",
    "# Llamar a la función para probarla\n",
    "buscar_nombre()\n",
    "\n",
    "\n",
    "Este código es bastante sencillo y debería ser fácil de entender y modificar según tus necesidades. ¡Espero que te sea útil!"
   ]
  },
  {
   "cell_type": "markdown",
   "metadata": {},
   "source": [
    "32. Crea una función que tome un nombre completo y una lista de empleados, busque el nombre completo en la lista y\n",
    "devuelve el puesto del empleado si está en la lista, de lo contrario, devuelve un mensaje indicando que la persona\n",
    "no trabaja aquí."
   ]
  },
  {
   "cell_type": "markdown",
   "metadata": {},
   "source": [
    "33. Crea una función lambda que sume elementos correspondientes de dos listas dadas."
   ]
  },
  {
   "cell_type": "code",
   "execution_count": 150,
   "metadata": {},
   "outputs": [
    {
     "name": "stdout",
     "output_type": "stream",
     "text": [
      "[3, 36, 27, 97, 49, 73, 28]\n"
     ]
    }
   ],
   "source": [
    "lista_elementos1 = [1,2,4,65,34,38,26,6,45,93,2]\n",
    "lista_elementos2 = [2,34,23,32,15,35,2]\n",
    "\n",
    "lista_total = list (map (lambda x,y: x+y,lista_elementos1,lista_elementos2))\n",
    "print (lista_total)"
   ]
  },
  {
   "cell_type": "markdown",
   "metadata": {},
   "source": [
    "34. Crea la clase Arbol , define un árbol genérico con un tronco y ramas como atributos. Los métodos disponibles son:\n",
    "crecer_tronco , nueva_rama , crecer_ramas , quitar_rama e info_arbol . El objetivo es implementar estos métodos para\n",
    "manipular la estructura del árbol.\n",
    "\n",
    "Código a seguir:\n",
    "1. Inicializar un árbol con un tronco de longitud 1 y una lista vacía de ramas.\n",
    "2. Implementar el método crecer_tronco para aumentar la longitud del tronco en una unidad.\n",
    "3. Implementar el método nueva_rama para agregar una nueva rama de longitud 1 a la lista de ramas.\n",
    "4. Implementar el método crecer_ramas para aumentar en una unidad la longitud de todas las ramas existentes.\n",
    "5. Implementar el método quitar_rama para eliminar una rama en una posición específica.\n",
    "6. Implementar el método\n",
    "info_arbol para devolver información sobre la longitud del tronco, el número de ramas y las longitudes de las\n",
    "mismas.\n",
    "\n",
    "Caso de uso:\n",
    "1. Crear un árbol.\n",
    "2. Hacer crecer el tronco del árbol una unidad.\n",
    "3. Añadir una nueva rama al árbol.\n",
    "4. Hacer crecer todas las ramas del árbol una unidad.\n",
    "5. Añadir dos nuevas ramas al árbol.\n",
    "6. Retirar la rama situada en la posición 2.\n",
    "7. Obtener información sobre el árbol."
   ]
  },
  {
   "cell_type": "code",
   "execution_count": null,
   "metadata": {},
   "outputs": [],
   "source": [
    "class Arbol:\n",
    "    #Metodo constructor\n",
    "    def __init__ (self, tronco, ramas): #definimos tronco y ramas como atributos\n",
    "        self.tronco = tronco\n",
    "        self.ramas = ramas\n",
    "        \n",
    "    def medida_inicial (self):\n",
    "        return f\"La longitud del tronco del arbol es: {self.tronco} m y el número de ramas es: {self.ramas}\"\n",
    "    \n",
    "    def crecer_arbol (self):\n",
    "        self.tronco = self.tronco+1\n",
    "        return f\"El tronco del arbol ha crecido, ahora mide: {self.tronco} m\"\n",
    "    \n",
    "    def nueva_rama (self):\n",
    "        self.ramas = self.ramas+1\n",
    "        return f\"El tronco ahora tiene: {self.ramas} ramas\"\n",
    "    \n",
    "    def crecer_ramas (self,longitud_nueva_rama):\n",
    "        longitud_rama = 10\n",
    "        self.ramas = self.ramas+2\n",
    "        return f\"El arbol tiene dos nuevas ramas. Ahora tiene {self.ramas} ramas\"\n",
    "    \n",
    "    def quitar_rama (self):\n",
    "        self.ramas = self.ramas-1\n",
    "        return f\"El tronco ahora tiene: {self.ramas} ramas\"\n",
    "    \n",
    "    def info_rama (self):\n",
    "        return(\"gorka\")\n",
    "    \n",
    "    def info_arbol(self):\n",
    "        return f\"el tronco mide {self.tronco} y el arbol tiene {self.ramas} ramas\""
   ]
  },
  {
   "cell_type": "code",
   "execution_count": 190,
   "metadata": {},
   "outputs": [],
   "source": [
    "arbol1 = Arbol(1,0)"
   ]
  },
  {
   "cell_type": "code",
   "execution_count": 191,
   "metadata": {},
   "outputs": [
    {
     "data": {
      "text/plain": [
       "<__main__.Arbol at 0x278b61a4ec0>"
      ]
     },
     "execution_count": 191,
     "metadata": {},
     "output_type": "execute_result"
    }
   ],
   "source": [
    "arbol1"
   ]
  },
  {
   "cell_type": "code",
   "execution_count": 192,
   "metadata": {},
   "outputs": [
    {
     "data": {
      "text/plain": [
       "'La longitud del tronco del arbol es: 1 m y el número de ramas es: 0'"
      ]
     },
     "execution_count": 192,
     "metadata": {},
     "output_type": "execute_result"
    }
   ],
   "source": [
    "arbol1.medida_inicial()"
   ]
  },
  {
   "cell_type": "code",
   "execution_count": 193,
   "metadata": {},
   "outputs": [
    {
     "data": {
      "text/plain": [
       "'El tronco del arbol ha crecido, ahora mide: 2 m'"
      ]
     },
     "execution_count": 193,
     "metadata": {},
     "output_type": "execute_result"
    }
   ],
   "source": [
    "arbol1.crecer_arbol()"
   ]
  },
  {
   "cell_type": "code",
   "execution_count": 194,
   "metadata": {},
   "outputs": [
    {
     "data": {
      "text/plain": [
       "'El tronco ahora tiene: 1 ramas'"
      ]
     },
     "execution_count": 194,
     "metadata": {},
     "output_type": "execute_result"
    }
   ],
   "source": [
    "arbol1.nueva_rama()"
   ]
  },
  {
   "cell_type": "code",
   "execution_count": null,
   "metadata": {},
   "outputs": [
    {
     "data": {
      "text/plain": [
       "'El arbol tiene dos nuevas ramas. Ahora tiene 3 ramas'"
      ]
     },
     "execution_count": 195,
     "metadata": {},
     "output_type": "execute_result"
    }
   ],
   "source": [
    "arbol1.crecer_ramas(1)"
   ]
  },
  {
   "cell_type": "code",
   "execution_count": 196,
   "metadata": {},
   "outputs": [
    {
     "data": {
      "text/plain": [
       "'El tronco ahora tiene: 2 ramas'"
      ]
     },
     "execution_count": 196,
     "metadata": {},
     "output_type": "execute_result"
    }
   ],
   "source": [
    "arbol1.quitar_rama ()"
   ]
  },
  {
   "cell_type": "markdown",
   "metadata": {},
   "source": [
    "36. Crea la clase UsuarioBanco ,representa a un usuario de un banco con su nombre, saldo y si tiene o no cuenta\n",
    "corriente. Proporciona métodos para realizar operaciones como retirar dinero, transferir dinero desde otro usuario y\n",
    "agregar dinero al saldo.\n",
    "\n",
    "Código a seguir:\n",
    "- Inicializar un usuario con su nombre, saldo y si tiene o no cuenta corriente mediante True y False .\n",
    "- Implementar el método retirar_dinero para retirar dinero del saldo del usuario. Lanzará un error en caso de no\n",
    "poder hacerse.\n",
    "- Implementar el método transferir_dinero para realizar una transferencia desde otro usuario al usuario actual.\n",
    "Lanzará un error en caso de no poder hacerse.\n",
    "- Implementar el método agregar_dinero para agregar dinero al saldo del usuario.\n",
    "Caso de uso:\n",
    "- Crear dos usuarios: \"Alicia\" con saldo inicial de 100 y \"Bob\" con saldo inicial de 50, ambos con cuenta corriente.\n",
    "PROYECTO LÓGICA Katas de Python\n",
    "3\n",
    "- Agregar 20 unidades de saldo de \"Bob\".\n",
    "- Hacer una transferencia de 80 unidades desde \"Bob\" a \"Alicia\".\n",
    "- Retirar 50 unidades de saldo a \"Alicia\""
   ]
  },
  {
   "cell_type": "markdown",
   "metadata": {},
   "source": [
    "37. Crea una función llamada procesar_texto que procesa un texto según la opción especificada: contar_palabras ,\n",
    "reemplazar_palabras , eliminar_palabra . Estas opciones son otras funciones que tenemos que definir primero y llamar dentro\n",
    "de la función procesar_texto .\n",
    "Código a seguir:\n",
    "- Crear una función contar_palabras para contar el número de veces que aparece cada palabra en el texto. Tiene\n",
    "que devolver un diccionario.\n",
    "- Crear una función reemplazar_palabras para remplazar una palabra_original del texto por una palabra_nueva . Tiene\n",
    "que devolver el texto con el remplazo de palabras.\n",
    "- Crear una función eliminar_palabra para eliminar una palabra del texto. Tiene que devolver el texto con la palabra\n",
    "eliminada.\n",
    "- Crear la función procesar_texto que tome un texto, una opción(entre \"contar\", \"reemplazar\", \"eliminar\") y un\n",
    "número de argumentos variable según la opción indicada.\n",
    "\n",
    "Caso de uso:\n",
    "Comprueba el funcionamiento completo de la función procesar_texto"
   ]
  },
  {
   "cell_type": "markdown",
   "metadata": {},
   "source": [
    "38. Genera un programa que nos diga si es de noche, de día o tarde según la hora proporcionada por el usuario."
   ]
  },
  {
   "cell_type": "code",
   "execution_count": null,
   "metadata": {},
   "outputs": [],
   "source": [
    "def determinar_momento_del_dia(hora):\n",
    "    if 6 <= hora < 12:\n",
    "        return \"Es de día\"\n",
    "    elif 12 <= hora < 18:\n",
    "        return \"Es de tarde\"\n",
    "    elif 18 <= hora <= 23 or 0 <= hora < 6:\n",
    "        return \"Es de noche\"\n",
    "    else:\n",
    "        return \"Hora no válida\"\n",
    "\n",
    "try:\n",
    "    hora_usuario = int(input(\"Ingresa la hora (en formato 24 horas, solo el número): \"))\n",
    "    resultado = determinar_momento_del_dia(hora_usuario)\n",
    "    print(resultado)\n",
    "except ValueError:\n",
    "    print(\"Por favor, ingresa un número entero válido.\")"
   ]
  },
  {
   "cell_type": "markdown",
   "metadata": {},
   "source": [
    "39. Escribe un programa que determine qué calificación en texto tiene un alumno en base a su calificación numérica.\n",
    "Las reglas de calificación son:\n",
    "- 0 y 69 insuficiente\n",
    "- 70 y 79 bien\n",
    "- 80 y 89 muy bien\n",
    "- 90 y 100 excelente"
   ]
  },
  {
   "cell_type": "code",
   "execution_count": 218,
   "metadata": {},
   "outputs": [
    {
     "name": "stdout",
     "output_type": "stream",
     "text": [
      "por favor introduce un numero comprendido entre 0 y 100\n"
     ]
    }
   ],
   "source": [
    "def calificacion (nota):\n",
    "    if nota >0 and nota <=69:\n",
    "        return \"insuficiente\"\n",
    "    elif nota>=70 and nota<=79:\n",
    "        return \"bien\"\n",
    "    elif nota>=80 and nota<=89:\n",
    "        return \"muy bien\"\n",
    "    elif nota>=90 and nota<=100:\n",
    "        return \"excelente\"\n",
    "    else:\n",
    "        return \"por favor introduce un numero comprendido entre 0 y 100\"\n",
    "    \n",
    "try:\n",
    "    calificacion_alumno = int(input())\n",
    "    nota_final = calificacion(calificacion_alumno)\n",
    "    print (nota_final)\n",
    "\n",
    "except ValueError:\n",
    "    print(\"Por favor, ingresa un número entero válido.\")\n",
    "    \n"
   ]
  },
  {
   "cell_type": "markdown",
   "metadata": {},
   "source": [
    "40. Escribe una función que tome dos parámetros: figura (una cadena que puede ser \"rectangulo\" , \"circulo\" o\n",
    "\"triangulo\" ) y datos (una tupla con los datos necesarios para calcular el área de la figura)"
   ]
  },
  {
   "cell_type": "code",
   "execution_count": null,
   "metadata": {},
   "outputs": [],
   "source": [
    "import math\n",
    "\n",
    "def calcular_area(figura, datos):\n",
    "    figura = figura.lower()\n",
    "    \n",
    "    if figura == \"rectangulo\":\n",
    "        if len(datos) != 2:\n",
    "            raise ValueError(\"Para un rectángulo se necesitan dos datos: base y altura.\")\n",
    "        base, altura = datos\n",
    "        return base * altura\n",
    "    \n",
    "    elif figura == \"circulo\":\n",
    "        if len(datos) != 1:\n",
    "            raise ValueError(\"Para un círculo se necesita un dato: el radio.\")\n",
    "        radio, = datos\n",
    "        return math.pi * radio ** 2\n",
    "    \n",
    "    elif figura == \"triangulo\":\n",
    "        if len(datos) != 2:\n",
    "            raise ValueError(\"Para un triángulo se necesitan dos datos: base y altura.\")\n",
    "        base, altura = datos\n",
    "        return (base * altura) / 2\n",
    "    \n",
    "    else:\n",
    "        raise ValueError(\"Figura no reconocida. Usa 'rectangulo', 'circulo' o 'triangulo'.\")\n"
   ]
  },
  {
   "cell_type": "code",
   "execution_count": null,
   "metadata": {},
   "outputs": [],
   "source": [
    "print(calcular_area(\"rectangulo\", (5, 10)))  # 50\n",
    "print(calcular_area(\"circulo\", (7,)))        # 153.938...\n",
    "print(calcular_area(\"triangulo\", (8, 4)))    # 16.0"
   ]
  },
  {
   "cell_type": "markdown",
   "metadata": {},
   "source": [
    "41. En este ejercicio, se te pedirá que escribas un programa en Python que utilice condicionales para determinar el\n",
    "monto final de una compra en una tienda en línea, después de aplicar un descuento. El programa debe hacer lo\n",
    "siguiente:\n",
    "1. Solicita al usuario que ingrese el precio original de un artículo.\n",
    "2. Pregunta al usuario si tiene un cupón de descuento (respuesta sí o no).\n",
    "3. Si el usuario responde que sí, solicita que ingrese el valor del cupón de descuento.\n",
    "4. Aplica el descuento al precio original del artículo, siempre y cuando el valor del cupón sea válido (es decir, mayor\n",
    "a cero). Por ejemplo, descuento de 15€.\n",
    "5. Muestra el precio final de la compra, teniendo en cuenta el descuento aplicado o sin él.\n",
    "6. Recuerda utilizar estructuras de control de flujo como if, elif y else para llevar a cabo estas acciones en tu\n",
    "programa de Python"
   ]
  }
 ],
 "metadata": {
  "kernelspec": {
   "display_name": "Python 3",
   "language": "python",
   "name": "python3"
  },
  "language_info": {
   "codemirror_mode": {
    "name": "ipython",
    "version": 3
   },
   "file_extension": ".py",
   "mimetype": "text/x-python",
   "name": "python",
   "nbconvert_exporter": "python",
   "pygments_lexer": "ipython3",
   "version": "3.13.3"
  }
 },
 "nbformat": 4,
 "nbformat_minor": 2
}
