{
 "cells": [
  {
   "cell_type": "markdown",
   "metadata": {},
   "source": [
    "# PROYECTO LÓGICA: Katas de Python"
   ]
  },
  {
   "cell_type": "markdown",
   "metadata": {},
   "source": [
    "1. Escribe una función que reciba una cadena de texto como parámetro y devuelva un diccionario con las frecuencias\n",
    "de cada letra en la cadena. Los espacios no deben ser considerados."
   ]
  },
  {
   "cell_type": "markdown",
   "metadata": {},
   "source": []
  },
  {
   "cell_type": "markdown",
   "metadata": {},
   "source": [
    "2. Dada una lista de números, obtén una nueva lista con el doble de cada valor. Usa la función map."
   ]
  },
  {
   "cell_type": "code",
   "execution_count": 66,
   "metadata": {},
   "outputs": [
    {
     "name": "stdout",
     "output_type": "stream",
     "text": [
      "[2, 4, 6, 8, 10, 12, 14, 16, 18, 20]\n"
     ]
    }
   ],
   "source": [
    "lista_números1 = [1,2,3,4,5,6,7,8,9,10]\n",
    "lista_números2 = list (map (lambda x:x*2,lista_números1))\n",
    "print (lista_números2)"
   ]
  },
  {
   "cell_type": "markdown",
   "metadata": {},
   "source": [
    "3. Escribe una función que tome una lista de palabras y una palabra objetivo como parámetros. La función debe\n",
    "devolver una lista con todas las palabras de la lista original que contengan la palabra objetivo."
   ]
  },
  {
   "cell_type": "code",
   "execution_count": 67,
   "metadata": {},
   "outputs": [
    {
     "ename": "TypeError",
     "evalue": "'str' object is not callable",
     "output_type": "error",
     "traceback": [
      "\u001b[31m---------------------------------------------------------------------------\u001b[39m",
      "\u001b[31mTypeError\u001b[39m                                 Traceback (most recent call last)",
      "\u001b[36mCell\u001b[39m\u001b[36m \u001b[39m\u001b[32mIn[67]\u001b[39m\u001b[32m, line 4\u001b[39m\n\u001b[32m      1\u001b[39m lista_palabras = [\u001b[33m\"\u001b[39m\u001b[33mmanzana\u001b[39m\u001b[33m\"\u001b[39m,\u001b[33m\"\u001b[39m\u001b[33mpera\u001b[39m\u001b[33m\"\u001b[39m,\u001b[33m\"\u001b[39m\u001b[33mplatano\u001b[39m\u001b[33m\"\u001b[39m,\u001b[33m\"\u001b[39m\u001b[33msandia\u001b[39m\u001b[33m\"\u001b[39m,\u001b[33m\"\u001b[39m\u001b[33mfresas\u001b[39m\u001b[33m\"\u001b[39m,\u001b[33m\"\u001b[39m\u001b[33mmandarina\u001b[39m\u001b[33m\"\u001b[39m,\u001b[33m\"\u001b[39m\u001b[33mnaranja\u001b[39m\u001b[33m\"\u001b[39m]\n\u001b[32m      2\u001b[39m palabra_objetivo = \u001b[33m\"\u001b[39m\u001b[33mna\u001b[39m\u001b[33m\"\u001b[39m\n\u001b[32m----> \u001b[39m\u001b[32m4\u001b[39m lista_final =\u001b[38;5;28;43mlist\u001b[39;49m\u001b[43m(\u001b[49m\u001b[38;5;28;43mfilter\u001b[39;49m\u001b[43m(\u001b[49m\u001b[43mpalabra_objetivo\u001b[49m\u001b[43m,\u001b[49m\u001b[43m \u001b[49m\u001b[43mlista_palabras\u001b[49m\u001b[43m)\u001b[49m\u001b[43m)\u001b[49m\n\u001b[32m      5\u001b[39m \u001b[38;5;28mprint\u001b[39m (lista_final)\n",
      "\u001b[31mTypeError\u001b[39m: 'str' object is not callable"
     ]
    }
   ],
   "source": [
    "lista_palabras = [\"manzana\",\"pera\",\"platano\",\"sandia\",\"fresas\",\"mandarina\",\"naranja\"]\n",
    "palabra_objetivo = \"na\"\n",
    "\n",
    "lista_final =list(filter(palabra_objetivo, lista_palabras))\n",
    "print (lista_final)"
   ]
  },
  {
   "cell_type": "markdown",
   "metadata": {},
   "source": [
    "4. Genera una función que calcule la diferencia entre los valores de dos listas. Usa la función map()"
   ]
  },
  {
   "cell_type": "code",
   "execution_count": null,
   "metadata": {},
   "outputs": [
    {
     "name": "stdout",
     "output_type": "stream",
     "text": [
      "[-9, -7, -5, -3, -1, 1, 3, 5, 7, 9]\n"
     ]
    }
   ],
   "source": [
    "lista1 = [1,2,3,4,5,6,7,8,9,10]\n",
    "lista2 = [10,9,8,7,6,5,4,3,2,1]\n",
    "\n",
    "diferencia = list (map (lambda x,y: x-y, lista1, lista2))\n",
    "print (diferencia)"
   ]
  },
  {
   "cell_type": "markdown",
   "metadata": {},
   "source": [
    "5.Ecribe una función que tome una lista de números como parámetro y un valor opcional nota_aprobado, que por\n",
    "defecto es 5. La función debe calcular la media de los números en la lista y determinar si la media es mayor o igual\n",
    "que nota aprobado. Si es así, el estado será \"aprobado\", de lo contrario, será \"suspenso\". La función debe devolver\n",
    "una tupla que contenga la media y el estado."
   ]
  },
  {
   "cell_type": "code",
   "execution_count": null,
   "metadata": {},
   "outputs": [
    {
     "name": "stdout",
     "output_type": "stream",
     "text": [
      "La nota media final es: 5.69\n",
      "El estado final es: Aprobado\n"
     ]
    }
   ],
   "source": [
    "def calcular_media (iterable_numeros,nota_aprobado):\n",
    "    estado = \"Suspenso\"\n",
    "    media = round (sum (iterable_numeros)/len(iterable_numeros),2)\n",
    "    if media >= nota_aprobado:\n",
    "        estado =\"Aprobado\"\n",
    "    return media,estado\n",
    "\n",
    "lista_notas = [5.6,3.8,5,6.7,2.3,8,8.4]\n",
    "media_final,estado_final = calcular_media(iterable_numeros=lista_notas, nota_aprobado=5)\n",
    "print (f\"La nota media final es: {media_final}\")\n",
    "print (f\"El estado final es: {estado_final}\")\n"
   ]
  },
  {
   "cell_type": "markdown",
   "metadata": {},
   "source": [
    "6. Escribe una función que calcule el factorial de un número de manera recursiva."
   ]
  },
  {
   "cell_type": "code",
   "execution_count": 119,
   "metadata": {},
   "outputs": [
    {
     "name": "stdout",
     "output_type": "stream",
     "text": [
      "120\n"
     ]
    }
   ],
   "source": [
    "def calcular_factorial (numero):\n",
    "    if numero == 0:\n",
    "        return 1\n",
    "    else:\n",
    "        return numero * calcular_factorial (numero-1)\n",
    "\n",
    "numero_factorial = calcular_factorial(5)\n",
    "print (numero_factorial)"
   ]
  },
  {
   "cell_type": "markdown",
   "metadata": {},
   "source": [
    "7. Genera una función que convierta una lista de tuplas a una lista de strings. Usa la función map()"
   ]
  },
  {
   "cell_type": "code",
   "execution_count": 215,
   "metadata": {},
   "outputs": [
    {
     "data": {
      "text/plain": [
       "[1, 2, 3, 4, 'gorka']"
      ]
     },
     "execution_count": 215,
     "metadata": {},
     "output_type": "execute_result"
    }
   ],
   "source": [
    "def convertir_lista_string (lista_tupla):\n",
    "    resultado_conversión = list (lista_tupla)\n",
    "    return resultado_conversión \n",
    "\n",
    "lista_tupla = (1,2,3,4,\"gorka\")\n",
    "convertir_lista_string (lista_tupla)\n"
   ]
  },
  {
   "cell_type": "code",
   "execution_count": 218,
   "metadata": {},
   "outputs": [
    {
     "ename": "TypeError",
     "evalue": "'int' object is not iterable",
     "output_type": "error",
     "traceback": [
      "\u001b[31m---------------------------------------------------------------------------\u001b[39m",
      "\u001b[31mTypeError\u001b[39m                                 Traceback (most recent call last)",
      "\u001b[36mCell\u001b[39m\u001b[36m \u001b[39m\u001b[32mIn[218]\u001b[39m\u001b[32m, line 4\u001b[39m\n\u001b[32m      1\u001b[39m \u001b[38;5;28;01mdef\u001b[39;00m\u001b[38;5;250m \u001b[39m\u001b[34mconversion\u001b[39m (lista1):\n\u001b[32m      2\u001b[39m     \u001b[38;5;28;01mreturn\u001b[39;00m \u001b[38;5;28mlist\u001b[39m(lista1)\n\u001b[32m----> \u001b[39m\u001b[32m4\u001b[39m lista2 = \u001b[38;5;28;43mlist\u001b[39;49m\u001b[43m(\u001b[49m\u001b[43m \u001b[49m\u001b[38;5;28;43mmap\u001b[39;49m\u001b[43m \u001b[49m\u001b[43m(\u001b[49m\u001b[43mconversion\u001b[49m\u001b[43m,\u001b[49m\u001b[43m \u001b[49m\u001b[43mlista1\u001b[49m\u001b[43m)\u001b[49m\u001b[43m)\u001b[49m\n\u001b[32m      5\u001b[39m lista1 = (\u001b[32m1\u001b[39m,\u001b[32m2\u001b[39m,\u001b[32m3\u001b[39m,\u001b[33m\"\u001b[39m\u001b[33mgorka\u001b[39m\u001b[33m\"\u001b[39m)\n\u001b[32m      6\u001b[39m \u001b[38;5;28mprint\u001b[39m (lista2)\n",
      "\u001b[36mCell\u001b[39m\u001b[36m \u001b[39m\u001b[32mIn[218]\u001b[39m\u001b[32m, line 2\u001b[39m, in \u001b[36mconversion\u001b[39m\u001b[34m(lista1)\u001b[39m\n\u001b[32m      1\u001b[39m \u001b[38;5;28;01mdef\u001b[39;00m\u001b[38;5;250m \u001b[39m\u001b[34mconversion\u001b[39m (lista1):\n\u001b[32m----> \u001b[39m\u001b[32m2\u001b[39m     \u001b[38;5;28;01mreturn\u001b[39;00m \u001b[38;5;28;43mlist\u001b[39;49m\u001b[43m(\u001b[49m\u001b[43mlista1\u001b[49m\u001b[43m)\u001b[49m\n",
      "\u001b[31mTypeError\u001b[39m: 'int' object is not iterable"
     ]
    }
   ],
   "source": [
    "def conversion (lista1):\n",
    "    return list(lista1)\n",
    "\n",
    "lista2 = list( map (conversion, lista1))\n",
    "lista1 = (1,2,3,\"gorka\")\n",
    "print (lista2)"
   ]
  },
  {
   "cell_type": "markdown",
   "metadata": {},
   "source": [
    "8. Escribe un programa que pida al usuario dos números e intente dividirlos. Si el usuario ingresa un valor no numérico o intenta dividir por cero, maneja esas excepciones de manera adecuada. Asegúrate de mostrar un mensaje\n",
    "indicando si la división fue exitosa o no."
   ]
  },
  {
   "cell_type": "code",
   "execution_count": 200,
   "metadata": {},
   "outputs": [
    {
     "name": "stdout",
     "output_type": "stream",
     "text": [
      "Error: Por favor, introduce valores numéricos.\n"
     ]
    }
   ],
   "source": [
    "def dividir_numeros():\n",
    "    try:\n",
    "        # Solicitar al usuario el primer número\n",
    "        num1 = float(input(\"Introduce el primer número: \"))\n",
    "        # Solicitar al usuario el segundo número\n",
    "        num2 = float(input(\"Introduce el segundo número: \"))\n",
    "        \n",
    "        # Intentar realizar la división\n",
    "        resultado = num1 / num2\n",
    "    except ValueError:\n",
    "        # Manejar el caso en que el usuario ingrese un valor no numérico\n",
    "        print(\"Error: Por favor, introduce valores numéricos.\")\n",
    "    except ZeroDivisionError:\n",
    "        # Manejar el caso en que el usuario intente dividir por cero\n",
    "        print(\"Error: No se puede dividir por cero.\")\n",
    "    else:\n",
    "        # Si no hubo excepciones, mostrar el resultado de la división\n",
    "        print(f\"La división fue exitosa. El resultado es: {resultado}\")\n",
    "\n",
    "# Llamar a la función para ejecutar el programa\n",
    "dividir_numeros()\n"
   ]
  },
  {
   "cell_type": "markdown",
   "metadata": {},
   "source": [
    "9. -Escribe una función que tome una lista de nombres de mascotas como parámetro y devuelva una nueva lista\n",
    "excluyendo ciertas mascotas prohibidas en España. La lista de mascotas a excluir es [\"Mapache\", \"Tigre\",\n",
    "\"Serpiente Pitón\", \"Cocodrilo\", \"Oso\"].Usa la función filter()"
   ]
  },
  {
   "cell_type": "code",
   "execution_count": 222,
   "metadata": {},
   "outputs": [
    {
     "ename": "NameError",
     "evalue": "name 'lista_mascotas_aceptadas_españa' is not defined",
     "output_type": "error",
     "traceback": [
      "\u001b[31m---------------------------------------------------------------------------\u001b[39m",
      "\u001b[31mNameError\u001b[39m                                 Traceback (most recent call last)",
      "\u001b[36mCell\u001b[39m\u001b[36m \u001b[39m\u001b[32mIn[222]\u001b[39m\u001b[32m, line 9\u001b[39m\n\u001b[32m      6\u001b[39m     \u001b[38;5;28;01mreturn\u001b[39;00m lista_mascotas_aceptadas_españa\n\u001b[32m      8\u001b[39m lista_mascotas = [\u001b[33m\"\u001b[39m\u001b[33mGato\u001b[39m\u001b[33m\"\u001b[39m, \u001b[33m\"\u001b[39m\u001b[33mPerro\u001b[39m\u001b[33m\"\u001b[39m, \u001b[33m\"\u001b[39m\u001b[33mMapache\u001b[39m\u001b[33m\"\u001b[39m,\u001b[33m\"\u001b[39m\u001b[33mPeriquito\u001b[39m\u001b[33m\"\u001b[39m]\n\u001b[32m----> \u001b[39m\u001b[32m9\u001b[39m \u001b[43mmascotas_ok\u001b[49m\u001b[43m \u001b[49m\u001b[43m(\u001b[49m\u001b[43mlista_mascotas\u001b[49m\u001b[43m)\u001b[49m\n",
      "\u001b[36mCell\u001b[39m\u001b[36m \u001b[39m\u001b[32mIn[222]\u001b[39m\u001b[32m, line 6\u001b[39m, in \u001b[36mmascotas_ok\u001b[39m\u001b[34m(lista_mascotas)\u001b[39m\n\u001b[32m      4\u001b[39m \u001b[38;5;28;01melse\u001b[39;00m:\n\u001b[32m      5\u001b[39m     \u001b[38;5;28;01mpass\u001b[39;00m\n\u001b[32m----> \u001b[39m\u001b[32m6\u001b[39m \u001b[38;5;28;01mreturn\u001b[39;00m \u001b[43mlista_mascotas_aceptadas_españa\u001b[49m\n",
      "\u001b[31mNameError\u001b[39m: name 'lista_mascotas_aceptadas_españa' is not defined"
     ]
    }
   ],
   "source": [
    "def mascotas_ok (lista_mascotas):\n",
    "    if lista_mascotas == \"Mapache\":\n",
    "        lista_mascotas_aceptadas_españa.append (lista_mascotas)\n",
    "    else:\n",
    "        pass\n",
    "    return lista_mascotas_aceptadas_españa\n",
    "\n",
    "lista_mascotas = [\"Gato\", \"Perro\", \"Mapache\",\"Periquito\"]\n",
    "mascotas_ok (lista_mascotas)"
   ]
  },
  {
   "cell_type": "markdown",
   "metadata": {},
   "source": [
    "10. Escribe una función que reciba una lista de números y calcule su promedio. Si la lista está vacía, lanza una\n",
    "excepción personalizada y maneja el error adecuadamente."
   ]
  },
  {
   "cell_type": "code",
   "execution_count": 84,
   "metadata": {},
   "outputs": [
    {
     "name": "stdout",
     "output_type": "stream",
     "text": [
      "No hay ningún valor para poder hacer la media\n",
      "La media final es: None\n"
     ]
    }
   ],
   "source": [
    "def calcular_media (iterable_numeros):\n",
    "    if len (lista_numeros)> 0:\n",
    "        media = round (sum (iterable_numeros)/len(iterable_numeros),2)\n",
    "        return (media)\n",
    "    else:\n",
    "        print (\"No hay ningún valor para poder hacer la media\")\n",
    "\n",
    "lista_numeros = []\n",
    "resultado_media = calcular_media (iterable_numeros = lista_numeros)\n",
    "print (f\"La media final es: {resultado_media}\")\n"
   ]
  },
  {
   "cell_type": "markdown",
   "metadata": {},
   "source": [
    "11. Escribe un programa que pida al usuario que introduzca su edad. Si el usuario ingresa un valor no numérico o un\n",
    "valor fuera del rango esperado (por ejemplo, menor que 0 o mayor que 120), maneja las excepciones\n",
    "adecuadamente."
   ]
  },
  {
   "cell_type": "code",
   "execution_count": null,
   "metadata": {},
   "outputs": [],
   "source": []
  },
  {
   "cell_type": "markdown",
   "metadata": {},
   "source": [
    "12. Genera una función que al recibir una frase devuelva una lista con la longitud de cada palabra. Usa la función map()"
   ]
  },
  {
   "cell_type": "code",
   "execution_count": 108,
   "metadata": {},
   "outputs": [
    {
     "name": "stdout",
     "output_type": "stream",
     "text": [
      "[1, 1, 1, 1, 1, 1, 1, 1, 1, 1, 1]\n",
      "Buenos dias\n"
     ]
    }
   ],
   "source": [
    "frase = (\"Buenos dias\")\n",
    "longitud_palabra =list (map(lambda x: len(x), frase))\n",
    "print (longitud_palabra)\n",
    "print (frase)"
   ]
  },
  {
   "cell_type": "markdown",
   "metadata": {},
   "source": [
    "13. Genera una función la cual, para un conjunto de caracteres, devuelva una lista de tuplas con cada letra en\n",
    "mayúsculas y minúsculas. Las letras no pueden estar repetidas .Usa la función map()"
   ]
  },
  {
   "cell_type": "code",
   "execution_count": null,
   "metadata": {},
   "outputs": [],
   "source": []
  },
  {
   "cell_type": "markdown",
   "metadata": {},
   "source": [
    "14. Crea una función que retorne las palabras de una lista de palabras que comience con una letra en especifico. Usa la función filter()"
   ]
  },
  {
   "cell_type": "markdown",
   "metadata": {},
   "source": [
    "15. Crea una función lambda que sume 3 a cada número de una lista dada."
   ]
  },
  {
   "cell_type": "code",
   "execution_count": 72,
   "metadata": {},
   "outputs": [
    {
     "name": "stdout",
     "output_type": "stream",
     "text": [
      "[4, 5, 6, 7, 8, 9, 10, 11, 12]\n"
     ]
    }
   ],
   "source": [
    "lista_numeros = (1,2,3,4,5,6,7,8,9)\n",
    "resultado = list (map(lambda x: x+3, lista_numeros))\n",
    "\n",
    "print (resultado)"
   ]
  },
  {
   "cell_type": "markdown",
   "metadata": {},
   "source": [
    "16. Escribe una función que tome una cadena de texto y un número entero n como parámetros y devuelva una lista de\n",
    "todas las palabras que sean más largas que n. Usa la función filter()."
   ]
  },
  {
   "cell_type": "code",
   "execution_count": 156,
   "metadata": {},
   "outputs": [
    {
     "name": "stdout",
     "output_type": "stream",
     "text": [
      "['Hola', 'mundo', 'hoy', 'ser', 'dia', 'espectacular']\n"
     ]
    }
   ],
   "source": [
    "def palabras_mas_largas_que(texto, n):\n",
    "    # Dividir el texto en palabras\n",
    "    palabras = texto.split()\n",
    "    \n",
    "    # Usar filter para obtener las palabras más largas que n\n",
    "    palabras_largas = list(filter(lambda palabra: len(palabra) > n, palabras))\n",
    "    \n",
    "    return palabras_largas\n",
    "\n",
    "# Ejemplo de uso\n",
    "texto = \"Hola mundo hoy va a ser un dia espectacular\"\n",
    "n = 2\n",
    "resultado = palabras_mas_largas_que(texto, n)\n",
    "print(resultado)  "
   ]
  },
  {
   "cell_type": "markdown",
   "metadata": {},
   "source": [
    "17. Crea una función que tome una lista de dígitos y devuelva el número correspondiente. Por ejemplo, [5,7,2]\n",
    "corresponde al número quinientos setenta y dos (572). Usa la función reduce()."
   ]
  },
  {
   "cell_type": "markdown",
   "metadata": {},
   "source": [
    "18. Escribe un programa en Python que cree una lista de diccionarios que contenga información de estudiantes\n",
    "(nombre, edad, calificación) y use la función filter para extraer a los estudiantes con una calificación mayor o igual a 90. Usa la función filter() "
   ]
  },
  {
   "cell_type": "markdown",
   "metadata": {},
   "source": [
    "19. Crea una función lambda que filtre los números impares de una lista dada."
   ]
  },
  {
   "cell_type": "code",
   "execution_count": 88,
   "metadata": {},
   "outputs": [
    {
     "name": "stdout",
     "output_type": "stream",
     "text": [
      "[12, 24, 92, 74, 22, 2, 48, 92]\n"
     ]
    }
   ],
   "source": [
    "lista_numeros =[12,24,92,74,22,2,48,92]\n",
    "numeros_impares = list (filter (lambda x: x%2 ==0, lista_numeros))\n",
    "print (numeros_impares)"
   ]
  },
  {
   "cell_type": "markdown",
   "metadata": {},
   "source": [
    "20. Para una lista con elementos tipo integer y string obtén una nueva lista sólo con los valores int. Usa la función\n",
    "filter() "
   ]
  },
  {
   "cell_type": "markdown",
   "metadata": {},
   "source": [
    "21. Crea una función que calcule el cubo de un número dado mediante una función lambda.\n"
   ]
  },
  {
   "cell_type": "code",
   "execution_count": 167,
   "metadata": {},
   "outputs": [
    {
     "name": "stdout",
     "output_type": "stream",
     "text": [
      "343\n"
     ]
    }
   ],
   "source": [
    "numero = 7\n",
    "print((lambda x: x*x*x)(numero))\n"
   ]
  },
  {
   "cell_type": "markdown",
   "metadata": {},
   "source": [
    "22. Dada una lista numérica, obtén el producto total de los valores de dicha lista.Usa la función reduce() .\n"
   ]
  },
  {
   "cell_type": "markdown",
   "metadata": {},
   "source": [
    "23. Concatena una lista de palabras.Usa la función reduce() .\n"
   ]
  },
  {
   "cell_type": "markdown",
   "metadata": {},
   "source": [
    "24. Calcula la diferencia total en los valores de una lista. Usa la función reduce() .\n"
   ]
  },
  {
   "cell_type": "markdown",
   "metadata": {},
   "source": [
    "25. Crea una función que cuente el número de caracteres en una cadena de texto dada."
   ]
  },
  {
   "cell_type": "code",
   "execution_count": 151,
   "metadata": {},
   "outputs": [
    {
     "name": "stdout",
     "output_type": "stream",
     "text": [
      "35\n"
     ]
    }
   ],
   "source": [
    "def contar_caracteres (cadena):\n",
    "    return len(cadena)\n",
    "\n",
    "cadena = \"Hola mundo hoy va a ser un gran día\"\n",
    "numero_caracteres = contar_caracteres (cadena)\n",
    "print (numero_caracteres)\n"
   ]
  },
  {
   "cell_type": "markdown",
   "metadata": {},
   "source": [
    "26. Crea una función lambda que calcule el resto de la división entre dos números dados.\n"
   ]
  },
  {
   "cell_type": "code",
   "execution_count": null,
   "metadata": {},
   "outputs": [],
   "source": []
  },
  {
   "cell_type": "markdown",
   "metadata": {},
   "source": [
    "27. Crea una función que calcule el promedio de una lista de números.\n"
   ]
  },
  {
   "cell_type": "code",
   "execution_count": 144,
   "metadata": {},
   "outputs": [
    {
     "name": "stdout",
     "output_type": "stream",
     "text": [
      "20.86\n"
     ]
    }
   ],
   "source": [
    "def calcular_promedio (numeros):\n",
    "    promedio = round (sum (numeros)/len(numeros),2)\n",
    "    return promedio\n",
    "\n",
    "numeros = [1,2,3,4,5,6,7,8,23,34,32,26,87,54]\n",
    "promedio_numeros = calcular_promedio (numeros)\n",
    "print (promedio_numeros)"
   ]
  },
  {
   "cell_type": "markdown",
   "metadata": {},
   "source": [
    "28. Crea una función que busque y devuelva el primer elemento duplicado en una lista dada.\n",
    "."
   ]
  },
  {
   "cell_type": "code",
   "execution_count": null,
   "metadata": {},
   "outputs": [],
   "source": []
  },
  {
   "cell_type": "markdown",
   "metadata": {},
   "source": [
    "29. Crea una función que convierta una variable en una cadena de texto y enmascare todos los caracteres con el\n",
    "carácter '#', excepto los últimos cuatro.\n"
   ]
  },
  {
   "cell_type": "markdown",
   "metadata": {},
   "source": [
    "30. Crea una función que determine si dos palabras son anagramas, es decir, si están formadas por las mismas letras\n",
    "pero en diferente orden"
   ]
  },
  {
   "cell_type": "markdown",
   "metadata": {},
   "source": [
    "33. Crea una función lambda que sume elementos correspondientes de dos listas dadas."
   ]
  },
  {
   "cell_type": "code",
   "execution_count": 150,
   "metadata": {},
   "outputs": [
    {
     "name": "stdout",
     "output_type": "stream",
     "text": [
      "[3, 36, 27, 97, 49, 73, 28]\n"
     ]
    }
   ],
   "source": [
    "lista_elementos1 = [1,2,4,65,34,38,26,6,45,93,2]\n",
    "lista_elementos2 = [2,34,23,32,15,35,2]\n",
    "\n",
    "lista_total = list (map (lambda x,y: x+y,lista_elementos1,lista_elementos2))\n",
    "print (lista_total)"
   ]
  }
 ],
 "metadata": {
  "kernelspec": {
   "display_name": "Python 3",
   "language": "python",
   "name": "python3"
  },
  "language_info": {
   "codemirror_mode": {
    "name": "ipython",
    "version": 3
   },
   "file_extension": ".py",
   "mimetype": "text/x-python",
   "name": "python",
   "nbconvert_exporter": "python",
   "pygments_lexer": "ipython3",
   "version": "3.13.2"
  }
 },
 "nbformat": 4,
 "nbformat_minor": 2
}
